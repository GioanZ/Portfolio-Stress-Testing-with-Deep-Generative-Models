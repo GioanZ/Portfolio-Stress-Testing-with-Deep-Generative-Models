{
 "cells": [
  {
   "cell_type": "markdown",
   "metadata": {},
   "source": [
    "## Imports"
   ]
  },
  {
   "cell_type": "code",
   "execution_count": 1,
   "metadata": {
    "execution": {
     "iopub.execute_input": "2025-03-02T05:38:42.678354Z",
     "iopub.status.busy": "2025-03-02T05:38:42.678014Z",
     "iopub.status.idle": "2025-03-02T05:38:44.113152Z",
     "shell.execute_reply": "2025-03-02T05:38:44.112838Z"
    }
   },
   "outputs": [
    {
     "name": "stderr",
     "output_type": "stream",
     "text": [
      "2025-03-02 00:38:43.169472: I tensorflow/core/util/port.cc:153] oneDNN custom operations are on. You may see slightly different numerical results due to floating-point round-off errors from different computation orders. To turn them off, set the environment variable `TF_ENABLE_ONEDNN_OPTS=0`.\n",
      "2025-03-02 00:38:43.178649: E external/local_xla/xla/stream_executor/cuda/cuda_fft.cc:477] Unable to register cuFFT factory: Attempting to register factory for plugin cuFFT when one has already been registered\n",
      "WARNING: All log messages before absl::InitializeLog() is called are written to STDERR\n",
      "E0000 00:00:1740893923.188496  498158 cuda_dnn.cc:8310] Unable to register cuDNN factory: Attempting to register factory for plugin cuDNN when one has already been registered\n",
      "E0000 00:00:1740893923.191411  498158 cuda_blas.cc:1418] Unable to register cuBLAS factory: Attempting to register factory for plugin cuBLAS when one has already been registered\n",
      "2025-03-02 00:38:43.202475: I tensorflow/core/platform/cpu_feature_guard.cc:210] This TensorFlow binary is optimized to use available CPU instructions in performance-critical operations.\n",
      "To enable the following instructions: AVX2 AVX512F AVX512_VNNI AVX512_BF16 FMA, in other operations, rebuild TensorFlow with the appropriate compiler flags.\n"
     ]
    }
   ],
   "source": [
    "import numpy as np\n",
    "import pandas as pd\n",
    "import matplotlib.pyplot as plt\n",
    "import yfinance as yf\n",
    "from fredapi import Fred\n",
    "import tensorflow as tf\n",
    "from tensorflow.keras import layers, Model, backend as K\n",
    "from tensorflow.keras.losses import mse\n",
    "from sklearn.preprocessing import StandardScaler\n",
    "from scipy.stats import wasserstein_distance, ks_2samp, entropy\n",
    "from sklearn.cluster import KMeans"
   ]
  },
  {
   "cell_type": "markdown",
   "metadata": {},
   "source": [
    "## Data"
   ]
  },
  {
   "cell_type": "markdown",
   "metadata": {},
   "source": [
    "### Parameters"
   ]
  },
  {
   "cell_type": "markdown",
   "metadata": {},
   "source": [
    "Tickers: [Warren Buffett's 2019 Q4 portfolio](https://valuesider.com/guru/warren-buffett-berkshire-hathaway/portfolio/2019/4?sort=-percent_portfolio&sells_page=1&page=2)."
   ]
  },
  {
   "cell_type": "code",
   "execution_count": 2,
   "metadata": {
    "execution": {
     "iopub.execute_input": "2025-03-02T05:38:44.114514Z",
     "iopub.status.busy": "2025-03-02T05:38:44.114349Z",
     "iopub.status.idle": "2025-03-02T05:38:44.116529Z",
     "shell.execute_reply": "2025-03-02T05:38:44.116340Z"
    }
   },
   "outputs": [],
   "source": [
    "tickers = [\n",
    "    \"AAPL\",\n",
    "    \"BAC\",\n",
    "    \"KO\",\n",
    "    \"AXP\",\n",
    "    \"WFC\",\n",
    "    \"KHC\",\n",
    "    \"JPM\",\n",
    "    \"USB\",\n",
    "    \"MCO\",\n",
    "    \"DAL\",\n",
    "    \"BK\",\n",
    "    \"LUV\",\n",
    "    \"DVA\",\n",
    "    \"GS\",\n",
    "    \"GM\",\n",
    "    \"CHTR\",\n",
    "    \"VRSN\",\n",
    "    \"V\",\n",
    "    \"UAL\",\n",
    "    \"MA\",\n",
    "    \"PNC\",\n",
    "    \"COST\",\n",
    "    \"AAL\",\n",
    "    \"AMZN\",\n",
    "    \"SIRI\",\n",
    "    \"MTB\",\n",
    "    \"OXY\",\n",
    "    \"SYF\",\n",
    "    \"AXTA\",\n",
    "    \"GL\",\n",
    "    \"STNE\",\n",
    "    \"KR\",\n",
    "    \"QSR\",\n",
    "    \"SU\",\n",
    "    \"LBTYA\",\n",
    "    \"TEVA\",\n",
    "    \"RH\",\n",
    "    \"BIIB\",\n",
    "    \"LBTYK\",\n",
    "    \"LILA\",\n",
    "    \"JNJ\",\n",
    "    \"TRV\",\n",
    "    \"PG\",\n",
    "    \"MDLZ\",\n",
    "    \"PSX\",\n",
    "    \"LILAK\",\n",
    "    \"VOO\",\n",
    "    \"SPY\",\n",
    "    \"UPS\",\n",
    "]\n",
    "\n",
    "start_date = \"2000-01-01\"\n",
    "end_date = \"2025-01-01\""
   ]
  },
  {
   "cell_type": "markdown",
   "metadata": {},
   "source": [
    "### Download Market Data"
   ]
  },
  {
   "cell_type": "code",
   "execution_count": 3,
   "metadata": {
    "execution": {
     "iopub.execute_input": "2025-03-02T05:38:44.117316Z",
     "iopub.status.busy": "2025-03-02T05:38:44.117240Z",
     "iopub.status.idle": "2025-03-02T05:38:46.242062Z",
     "shell.execute_reply": "2025-03-02T05:38:46.241789Z"
    }
   },
   "outputs": [
    {
     "name": "stdout",
     "output_type": "stream",
     "text": [
      "YF.download() has changed argument auto_adjust default to True\n"
     ]
    },
    {
     "data": {
      "text/html": [
       "<div>\n",
       "<style scoped>\n",
       "    .dataframe tbody tr th:only-of-type {\n",
       "        vertical-align: middle;\n",
       "    }\n",
       "\n",
       "    .dataframe tbody tr th {\n",
       "        vertical-align: top;\n",
       "    }\n",
       "\n",
       "    .dataframe thead tr th {\n",
       "        text-align: left;\n",
       "    }\n",
       "\n",
       "    .dataframe thead tr:last-of-type th {\n",
       "        text-align: right;\n",
       "    }\n",
       "</style>\n",
       "<table border=\"1\" class=\"dataframe\">\n",
       "  <thead>\n",
       "    <tr>\n",
       "      <th>Price</th>\n",
       "      <th colspan=\"10\" halign=\"left\">Close</th>\n",
       "      <th>...</th>\n",
       "      <th colspan=\"10\" halign=\"left\">Volume</th>\n",
       "    </tr>\n",
       "    <tr>\n",
       "      <th>Ticker</th>\n",
       "      <th>AAL</th>\n",
       "      <th>AAPL</th>\n",
       "      <th>AMZN</th>\n",
       "      <th>AXP</th>\n",
       "      <th>AXTA</th>\n",
       "      <th>BAC</th>\n",
       "      <th>BIIB</th>\n",
       "      <th>BK</th>\n",
       "      <th>CHTR</th>\n",
       "      <th>COST</th>\n",
       "      <th>...</th>\n",
       "      <th>SYF</th>\n",
       "      <th>TEVA</th>\n",
       "      <th>TRV</th>\n",
       "      <th>UAL</th>\n",
       "      <th>UPS</th>\n",
       "      <th>USB</th>\n",
       "      <th>V</th>\n",
       "      <th>VOO</th>\n",
       "      <th>VRSN</th>\n",
       "      <th>WFC</th>\n",
       "    </tr>\n",
       "    <tr>\n",
       "      <th>Date</th>\n",
       "      <th></th>\n",
       "      <th></th>\n",
       "      <th></th>\n",
       "      <th></th>\n",
       "      <th></th>\n",
       "      <th></th>\n",
       "      <th></th>\n",
       "      <th></th>\n",
       "      <th></th>\n",
       "      <th></th>\n",
       "      <th></th>\n",
       "      <th></th>\n",
       "      <th></th>\n",
       "      <th></th>\n",
       "      <th></th>\n",
       "      <th></th>\n",
       "      <th></th>\n",
       "      <th></th>\n",
       "      <th></th>\n",
       "      <th></th>\n",
       "      <th></th>\n",
       "    </tr>\n",
       "  </thead>\n",
       "  <tbody>\n",
       "    <tr>\n",
       "      <th>2000-01-03</th>\n",
       "      <td>NaN</td>\n",
       "      <td>0.842150</td>\n",
       "      <td>4.468750</td>\n",
       "      <td>32.595161</td>\n",
       "      <td>NaN</td>\n",
       "      <td>12.714030</td>\n",
       "      <td>31.083332</td>\n",
       "      <td>21.912378</td>\n",
       "      <td>NaN</td>\n",
       "      <td>29.851658</td>\n",
       "      <td>...</td>\n",
       "      <td>NaN</td>\n",
       "      <td>3145600</td>\n",
       "      <td>336400</td>\n",
       "      <td>NaN</td>\n",
       "      <td>1273200</td>\n",
       "      <td>2354200</td>\n",
       "      <td>NaN</td>\n",
       "      <td>NaN</td>\n",
       "      <td>2270100</td>\n",
       "      <td>9037000</td>\n",
       "    </tr>\n",
       "    <tr>\n",
       "      <th>2000-01-04</th>\n",
       "      <td>NaN</td>\n",
       "      <td>0.771149</td>\n",
       "      <td>4.096875</td>\n",
       "      <td>31.364429</td>\n",
       "      <td>NaN</td>\n",
       "      <td>11.959388</td>\n",
       "      <td>28.979168</td>\n",
       "      <td>21.283142</td>\n",
       "      <td>NaN</td>\n",
       "      <td>28.216526</td>\n",
       "      <td>...</td>\n",
       "      <td>NaN</td>\n",
       "      <td>4314400</td>\n",
       "      <td>494400</td>\n",
       "      <td>NaN</td>\n",
       "      <td>1385800</td>\n",
       "      <td>3687700</td>\n",
       "      <td>NaN</td>\n",
       "      <td>NaN</td>\n",
       "      <td>3002200</td>\n",
       "      <td>15237200</td>\n",
       "    </tr>\n",
       "    <tr>\n",
       "      <th>2000-01-05</th>\n",
       "      <td>NaN</td>\n",
       "      <td>0.782433</td>\n",
       "      <td>3.487500</td>\n",
       "      <td>30.567799</td>\n",
       "      <td>NaN</td>\n",
       "      <td>12.090629</td>\n",
       "      <td>31.000000</td>\n",
       "      <td>20.801952</td>\n",
       "      <td>NaN</td>\n",
       "      <td>28.698671</td>\n",
       "      <td>...</td>\n",
       "      <td>NaN</td>\n",
       "      <td>3379200</td>\n",
       "      <td>736000</td>\n",
       "      <td>NaN</td>\n",
       "      <td>1401700</td>\n",
       "      <td>2704200</td>\n",
       "      <td>NaN</td>\n",
       "      <td>NaN</td>\n",
       "      <td>6886600</td>\n",
       "      <td>8228200</td>\n",
       "    </tr>\n",
       "    <tr>\n",
       "      <th>2000-01-06</th>\n",
       "      <td>NaN</td>\n",
       "      <td>0.714723</td>\n",
       "      <td>3.278125</td>\n",
       "      <td>31.190569</td>\n",
       "      <td>NaN</td>\n",
       "      <td>13.124153</td>\n",
       "      <td>32.375000</td>\n",
       "      <td>21.320156</td>\n",
       "      <td>NaN</td>\n",
       "      <td>29.275152</td>\n",
       "      <td>...</td>\n",
       "      <td>NaN</td>\n",
       "      <td>2148000</td>\n",
       "      <td>660400</td>\n",
       "      <td>NaN</td>\n",
       "      <td>1959100</td>\n",
       "      <td>4185300</td>\n",
       "      <td>NaN</td>\n",
       "      <td>NaN</td>\n",
       "      <td>4003200</td>\n",
       "      <td>8326800</td>\n",
       "    </tr>\n",
       "    <tr>\n",
       "      <th>2000-01-07</th>\n",
       "      <td>NaN</td>\n",
       "      <td>0.748578</td>\n",
       "      <td>3.478125</td>\n",
       "      <td>31.644672</td>\n",
       "      <td>NaN</td>\n",
       "      <td>12.779645</td>\n",
       "      <td>36.104168</td>\n",
       "      <td>22.430571</td>\n",
       "      <td>NaN</td>\n",
       "      <td>31.214256</td>\n",
       "      <td>...</td>\n",
       "      <td>NaN</td>\n",
       "      <td>10913600</td>\n",
       "      <td>594700</td>\n",
       "      <td>NaN</td>\n",
       "      <td>996000</td>\n",
       "      <td>4486700</td>\n",
       "      <td>NaN</td>\n",
       "      <td>NaN</td>\n",
       "      <td>3803200</td>\n",
       "      <td>7711200</td>\n",
       "    </tr>\n",
       "    <tr>\n",
       "      <th>...</th>\n",
       "      <td>...</td>\n",
       "      <td>...</td>\n",
       "      <td>...</td>\n",
       "      <td>...</td>\n",
       "      <td>...</td>\n",
       "      <td>...</td>\n",
       "      <td>...</td>\n",
       "      <td>...</td>\n",
       "      <td>...</td>\n",
       "      <td>...</td>\n",
       "      <td>...</td>\n",
       "      <td>...</td>\n",
       "      <td>...</td>\n",
       "      <td>...</td>\n",
       "      <td>...</td>\n",
       "      <td>...</td>\n",
       "      <td>...</td>\n",
       "      <td>...</td>\n",
       "      <td>...</td>\n",
       "      <td>...</td>\n",
       "      <td>...</td>\n",
       "    </tr>\n",
       "    <tr>\n",
       "      <th>2024-12-24</th>\n",
       "      <td>17.350000</td>\n",
       "      <td>257.916443</td>\n",
       "      <td>229.050003</td>\n",
       "      <td>302.748199</td>\n",
       "      <td>34.439999</td>\n",
       "      <td>44.380001</td>\n",
       "      <td>149.020004</td>\n",
       "      <td>77.622406</td>\n",
       "      <td>352.190002</td>\n",
       "      <td>957.761780</td>\n",
       "      <td>...</td>\n",
       "      <td>809500.0</td>\n",
       "      <td>3026000</td>\n",
       "      <td>329200</td>\n",
       "      <td>1968600.0</td>\n",
       "      <td>1579200</td>\n",
       "      <td>2393800</td>\n",
       "      <td>2684100.0</td>\n",
       "      <td>3439300.0</td>\n",
       "      <td>219200</td>\n",
       "      <td>4442700</td>\n",
       "    </tr>\n",
       "    <tr>\n",
       "      <th>2024-12-26</th>\n",
       "      <td>17.350000</td>\n",
       "      <td>258.735504</td>\n",
       "      <td>227.050003</td>\n",
       "      <td>303.276947</td>\n",
       "      <td>34.630001</td>\n",
       "      <td>44.549999</td>\n",
       "      <td>149.899994</td>\n",
       "      <td>77.920761</td>\n",
       "      <td>351.779999</td>\n",
       "      <td>955.084717</td>\n",
       "      <td>...</td>\n",
       "      <td>1622900.0</td>\n",
       "      <td>7485000</td>\n",
       "      <td>434100</td>\n",
       "      <td>2226900.0</td>\n",
       "      <td>3011100</td>\n",
       "      <td>3448200</td>\n",
       "      <td>2856000.0</td>\n",
       "      <td>4492000.0</td>\n",
       "      <td>368200</td>\n",
       "      <td>6964300</td>\n",
       "    </tr>\n",
       "    <tr>\n",
       "      <th>2024-12-27</th>\n",
       "      <td>17.350000</td>\n",
       "      <td>255.309296</td>\n",
       "      <td>223.750000</td>\n",
       "      <td>300.343842</td>\n",
       "      <td>34.369999</td>\n",
       "      <td>44.340000</td>\n",
       "      <td>151.309998</td>\n",
       "      <td>77.145035</td>\n",
       "      <td>348.649994</td>\n",
       "      <td>938.662842</td>\n",
       "      <td>...</td>\n",
       "      <td>1321600.0</td>\n",
       "      <td>6927200</td>\n",
       "      <td>631700</td>\n",
       "      <td>3156900.0</td>\n",
       "      <td>2904000</td>\n",
       "      <td>4956900</td>\n",
       "      <td>3489200.0</td>\n",
       "      <td>7077100.0</td>\n",
       "      <td>569600</td>\n",
       "      <td>7219500</td>\n",
       "    </tr>\n",
       "    <tr>\n",
       "      <th>2024-12-30</th>\n",
       "      <td>17.620001</td>\n",
       "      <td>251.923019</td>\n",
       "      <td>221.300003</td>\n",
       "      <td>296.632568</td>\n",
       "      <td>34.009998</td>\n",
       "      <td>43.910000</td>\n",
       "      <td>150.190002</td>\n",
       "      <td>76.687553</td>\n",
       "      <td>343.179993</td>\n",
       "      <td>921.192200</td>\n",
       "      <td>...</td>\n",
       "      <td>2093500.0</td>\n",
       "      <td>9601700</td>\n",
       "      <td>734300</td>\n",
       "      <td>3886400.0</td>\n",
       "      <td>2953900</td>\n",
       "      <td>4868400</td>\n",
       "      <td>3478500.0</td>\n",
       "      <td>6505100.0</td>\n",
       "      <td>905800</td>\n",
       "      <td>8443800</td>\n",
       "    </tr>\n",
       "    <tr>\n",
       "      <th>2024-12-31</th>\n",
       "      <td>17.430000</td>\n",
       "      <td>250.144974</td>\n",
       "      <td>219.389999</td>\n",
       "      <td>296.093842</td>\n",
       "      <td>34.220001</td>\n",
       "      <td>43.950001</td>\n",
       "      <td>152.919998</td>\n",
       "      <td>76.409088</td>\n",
       "      <td>342.769989</td>\n",
       "      <td>915.258728</td>\n",
       "      <td>...</td>\n",
       "      <td>1357900.0</td>\n",
       "      <td>6321600</td>\n",
       "      <td>795100</td>\n",
       "      <td>2816800.0</td>\n",
       "      <td>3400800</td>\n",
       "      <td>4521400</td>\n",
       "      <td>3963800.0</td>\n",
       "      <td>6040800.0</td>\n",
       "      <td>985200</td>\n",
       "      <td>7031500</td>\n",
       "    </tr>\n",
       "  </tbody>\n",
       "</table>\n",
       "<p>6289 rows × 245 columns</p>\n",
       "</div>"
      ],
      "text/plain": [
       "Price           Close                                                 \\\n",
       "Ticker            AAL        AAPL        AMZN         AXP       AXTA   \n",
       "Date                                                                   \n",
       "2000-01-03        NaN    0.842150    4.468750   32.595161        NaN   \n",
       "2000-01-04        NaN    0.771149    4.096875   31.364429        NaN   \n",
       "2000-01-05        NaN    0.782433    3.487500   30.567799        NaN   \n",
       "2000-01-06        NaN    0.714723    3.278125   31.190569        NaN   \n",
       "2000-01-07        NaN    0.748578    3.478125   31.644672        NaN   \n",
       "...               ...         ...         ...         ...        ...   \n",
       "2024-12-24  17.350000  257.916443  229.050003  302.748199  34.439999   \n",
       "2024-12-26  17.350000  258.735504  227.050003  303.276947  34.630001   \n",
       "2024-12-27  17.350000  255.309296  223.750000  300.343842  34.369999   \n",
       "2024-12-30  17.620001  251.923019  221.300003  296.632568  34.009998   \n",
       "2024-12-31  17.430000  250.144974  219.389999  296.093842  34.220001   \n",
       "\n",
       "Price                                                                 ...  \\\n",
       "Ticker            BAC        BIIB         BK        CHTR        COST  ...   \n",
       "Date                                                                  ...   \n",
       "2000-01-03  12.714030   31.083332  21.912378         NaN   29.851658  ...   \n",
       "2000-01-04  11.959388   28.979168  21.283142         NaN   28.216526  ...   \n",
       "2000-01-05  12.090629   31.000000  20.801952         NaN   28.698671  ...   \n",
       "2000-01-06  13.124153   32.375000  21.320156         NaN   29.275152  ...   \n",
       "2000-01-07  12.779645   36.104168  22.430571         NaN   31.214256  ...   \n",
       "...               ...         ...        ...         ...         ...  ...   \n",
       "2024-12-24  44.380001  149.020004  77.622406  352.190002  957.761780  ...   \n",
       "2024-12-26  44.549999  149.899994  77.920761  351.779999  955.084717  ...   \n",
       "2024-12-27  44.340000  151.309998  77.145035  348.649994  938.662842  ...   \n",
       "2024-12-30  43.910000  150.190002  76.687553  343.179993  921.192200  ...   \n",
       "2024-12-31  43.950001  152.919998  76.409088  342.769989  915.258728  ...   \n",
       "\n",
       "Price          Volume                                                 \\\n",
       "Ticker            SYF      TEVA     TRV        UAL      UPS      USB   \n",
       "Date                                                                   \n",
       "2000-01-03        NaN   3145600  336400        NaN  1273200  2354200   \n",
       "2000-01-04        NaN   4314400  494400        NaN  1385800  3687700   \n",
       "2000-01-05        NaN   3379200  736000        NaN  1401700  2704200   \n",
       "2000-01-06        NaN   2148000  660400        NaN  1959100  4185300   \n",
       "2000-01-07        NaN  10913600  594700        NaN   996000  4486700   \n",
       "...               ...       ...     ...        ...      ...      ...   \n",
       "2024-12-24   809500.0   3026000  329200  1968600.0  1579200  2393800   \n",
       "2024-12-26  1622900.0   7485000  434100  2226900.0  3011100  3448200   \n",
       "2024-12-27  1321600.0   6927200  631700  3156900.0  2904000  4956900   \n",
       "2024-12-30  2093500.0   9601700  734300  3886400.0  2953900  4868400   \n",
       "2024-12-31  1357900.0   6321600  795100  2816800.0  3400800  4521400   \n",
       "\n",
       "Price                                                \n",
       "Ticker              V        VOO     VRSN       WFC  \n",
       "Date                                                 \n",
       "2000-01-03        NaN        NaN  2270100   9037000  \n",
       "2000-01-04        NaN        NaN  3002200  15237200  \n",
       "2000-01-05        NaN        NaN  6886600   8228200  \n",
       "2000-01-06        NaN        NaN  4003200   8326800  \n",
       "2000-01-07        NaN        NaN  3803200   7711200  \n",
       "...               ...        ...      ...       ...  \n",
       "2024-12-24  2684100.0  3439300.0   219200   4442700  \n",
       "2024-12-26  2856000.0  4492000.0   368200   6964300  \n",
       "2024-12-27  3489200.0  7077100.0   569600   7219500  \n",
       "2024-12-30  3478500.0  6505100.0   905800   8443800  \n",
       "2024-12-31  3963800.0  6040800.0   985200   7031500  \n",
       "\n",
       "[6289 rows x 245 columns]"
      ]
     },
     "execution_count": 3,
     "metadata": {},
     "output_type": "execute_result"
    }
   ],
   "source": [
    "data = yf.download(tickers, start=start_date, end=end_date, progress=False)\n",
    "data"
   ]
  },
  {
   "cell_type": "code",
   "execution_count": 4,
   "metadata": {
    "execution": {
     "iopub.execute_input": "2025-03-02T05:38:46.243004Z",
     "iopub.status.busy": "2025-03-02T05:38:46.242921Z",
     "iopub.status.idle": "2025-03-02T05:38:46.250006Z",
     "shell.execute_reply": "2025-03-02T05:38:46.249774Z"
    }
   },
   "outputs": [],
   "source": [
    "data = data[\"Close\"].dropna()\n",
    "\n",
    "returns = np.log(data / data.shift(1)).dropna()\n",
    "\n",
    "returns_scaler = StandardScaler()\n",
    "returns_scaled = returns.copy()\n",
    "returns_scaled.iloc[:] = returns_scaler.fit_transform(returns_scaled)"
   ]
  },
  {
   "cell_type": "markdown",
   "metadata": {},
   "source": [
    "### Download and Prepare Macroeconomic Indicators"
   ]
  },
  {
   "cell_type": "code",
   "execution_count": 5,
   "metadata": {
    "execution": {
     "iopub.execute_input": "2025-03-02T05:38:46.250848Z",
     "iopub.status.busy": "2025-03-02T05:38:46.250773Z",
     "iopub.status.idle": "2025-03-02T05:38:48.995206Z",
     "shell.execute_reply": "2025-03-02T05:38:48.994679Z"
    }
   },
   "outputs": [],
   "source": [
    "with open(\"key_fred.txt\", \"r\") as file:\n",
    "    key_fred = file.read().strip()\n",
    "\n",
    "fred = Fred(api_key=key_fred)\n",
    "\n",
    "inflation = fred.get_series(\"CPIAUCSL\")\n",
    "fed_funds = fred.get_series(\"FEDFUNDS\")\n",
    "unemployment = fred.get_series(\"UNRATE\")\n",
    "short_term = fred.get_series(\"DGS3MO\")\n",
    "long_term = fred.get_series(\"DGS10\")"
   ]
  },
  {
   "cell_type": "code",
   "execution_count": 6,
   "metadata": {
    "execution": {
     "iopub.execute_input": "2025-03-02T05:38:48.997147Z",
     "iopub.status.busy": "2025-03-02T05:38:48.997043Z",
     "iopub.status.idle": "2025-03-02T05:38:49.187396Z",
     "shell.execute_reply": "2025-03-02T05:38:49.186954Z"
    }
   },
   "outputs": [],
   "source": [
    "macro_df = pd.concat(\n",
    "    [inflation, fed_funds, unemployment, short_term, long_term], axis=1\n",
    ")\n",
    "macro_df.ffill(inplace=True)\n",
    "macro_df = macro_df.loc[start_date:end_date]\n",
    "macro_df.columns = [\"inflation\", \"fed_funds\", \"unemployment\", \"short_term\", \"long_term\"]\n",
    "\n",
    "vix_df = yf.download(\"^VIX\", start=start_date, end=end_date, progress=False)\n",
    "\n",
    "vix_column = \"Adj Close\" if \"Adj Close\" in vix_df.columns else \"Close\"\n",
    "\n",
    "if isinstance(vix_df.columns, pd.MultiIndex):\n",
    "    vix_data = vix_df[(\"Close\", \"^VIX\")].rename(\"vix\")\n",
    "else:\n",
    "    vix_data = vix_df[\"Close\"].rename(\"vix\")\n",
    "\n",
    "macro_df = pd.concat([macro_df, vix_data], axis=1)\n",
    "macro_df = macro_df.reindex(returns.index).ffill()\n",
    "\n",
    "macro_scaler = StandardScaler()\n",
    "macro_scaled = macro_scaler.fit_transform(macro_df)"
   ]
  },
  {
   "cell_type": "markdown",
   "metadata": {},
   "source": [
    "## Define custom layers: Sampling, Reconstruction Loss, KL Divergence"
   ]
  },
  {
   "cell_type": "code",
   "execution_count": 7,
   "metadata": {
    "execution": {
     "iopub.execute_input": "2025-03-02T05:38:49.189015Z",
     "iopub.status.busy": "2025-03-02T05:38:49.188940Z",
     "iopub.status.idle": "2025-03-02T05:38:49.191533Z",
     "shell.execute_reply": "2025-03-02T05:38:49.191235Z"
    }
   },
   "outputs": [],
   "source": [
    "class SamplingLayer(layers.Layer):\n",
    "    def call(self, inputs):\n",
    "        z_mean, z_log_var = inputs\n",
    "        epsilon = tf.random.normal(shape=tf.shape(z_mean))\n",
    "        return z_mean + tf.exp(0.5 * z_log_var) * epsilon\n",
    "\n",
    "\n",
    "class ReconstructionLossLayer(layers.Layer):\n",
    "    def call(self, inputs):\n",
    "        x, x_pred = inputs\n",
    "        loss = K.mean(mse(x, x_pred))\n",
    "        self.add_loss(loss)\n",
    "        return x_pred\n",
    "\n",
    "\n",
    "class KLDivergenceLayer(layers.Layer):\n",
    "    def call(self, inputs):\n",
    "        z_mean, z_log_var = inputs\n",
    "        kl_loss = -0.5 * tf.reduce_sum(\n",
    "            1 + z_log_var - tf.square(z_mean) - tf.exp(z_log_var), axis=-1\n",
    "        )\n",
    "        self.add_loss(tf.reduce_mean(kl_loss))\n",
    "        return z_mean"
   ]
  },
  {
   "cell_type": "markdown",
   "metadata": {},
   "source": [
    "## Conditional VAE: Unconditioned Encoder, Conditioned Decoder with Dropout"
   ]
  },
  {
   "cell_type": "code",
   "execution_count": 8,
   "metadata": {
    "execution": {
     "iopub.execute_input": "2025-03-02T05:38:49.192889Z",
     "iopub.status.busy": "2025-03-02T05:38:49.192814Z",
     "iopub.status.idle": "2025-03-02T05:38:49.195593Z",
     "shell.execute_reply": "2025-03-02T05:38:49.195311Z"
    }
   },
   "outputs": [],
   "source": [
    "def build_conditional_vae(input_dim, macro_dim, intermediate_dim=256, latent_dim=2):\n",
    "    x_input = layers.Input(shape=(input_dim,), name=\"returns_input\")\n",
    "    h = layers.Dense(intermediate_dim, activation=\"relu\")(x_input)\n",
    "    z_mean = layers.Dense(latent_dim, name=\"z_mean\")(h)\n",
    "    z_log_var = layers.Dense(latent_dim, name=\"z_log_var\")(h)\n",
    "\n",
    "    z_mean = KLDivergenceLayer()([z_mean, z_log_var])\n",
    "\n",
    "    z = SamplingLayer(name=\"z\")([z_mean, z_log_var])\n",
    "    encoder = Model(x_input, [z_mean, z_log_var, z], name=\"encoder\")\n",
    "\n",
    "    # Decoder\n",
    "    cond_input = layers.Input(shape=(macro_dim,), name=\"macro_input\")\n",
    "    decoder_input = layers.Concatenate(name=\"concat_decoder\")([z, cond_input])\n",
    "    d = layers.Dense(intermediate_dim, activation=\"relu\")(decoder_input)\n",
    "    d = layers.Dense(intermediate_dim // 2, activation=\"relu\")(d)\n",
    "    outputs = layers.Dense(input_dim, activation=\"linear\")(d)\n",
    "    decoder = Model([z, cond_input], outputs, name=\"decoder\")\n",
    "\n",
    "    # Conditional VAE Model\n",
    "    vae_output = decoder([encoder(x_input)[2], cond_input])\n",
    "    x_pred = ReconstructionLossLayer()([x_input, vae_output])\n",
    "    cvae = Model([x_input, cond_input], x_pred, name=\"cvae\")\n",
    "\n",
    "    # Compile the model\n",
    "    cvae.compile(optimizer=\"adam\")\n",
    "\n",
    "    return encoder, decoder, cvae"
   ]
  },
  {
   "cell_type": "markdown",
   "metadata": {},
   "source": [
    "## Conditional Generator and Critic (WGAN-GP) with Increased Depth and Dropout"
   ]
  },
  {
   "cell_type": "code",
   "execution_count": 9,
   "metadata": {
    "execution": {
     "iopub.execute_input": "2025-03-02T05:38:49.197088Z",
     "iopub.status.busy": "2025-03-02T05:38:49.196917Z",
     "iopub.status.idle": "2025-03-02T05:38:49.202240Z",
     "shell.execute_reply": "2025-03-02T05:38:49.201964Z"
    }
   },
   "outputs": [],
   "source": [
    "def build_conditional_generator(noise_dim, macro_dim, latent_dim):\n",
    "    noise_input = layers.Input(shape=(noise_dim,), name=\"noise_input\")\n",
    "    macro_input = layers.Input(shape=(macro_dim,), name=\"macro_input_gen\")\n",
    "    x = layers.Concatenate(name=\"concat_gen\")([noise_input, macro_input])\n",
    "    x = layers.Dense(256, activation=\"relu\")(x)\n",
    "    x = layers.Dense(256, activation=\"relu\")(x)\n",
    "    x = layers.Dense(128, activation=\"relu\")(x)\n",
    "    x = layers.Dense(128, activation=\"relu\")(x)\n",
    "    x = layers.Dense(64, activation=\"relu\")(x)\n",
    "    output_latent = layers.Dense(latent_dim, name=\"latent_generated\")(x)\n",
    "    model = Model(\n",
    "        [noise_input, macro_input], output_latent, name=\"conditional_generator\"\n",
    "    )\n",
    "    return model\n",
    "\n",
    "\n",
    "def build_conditional_critic(latent_dim, macro_dim):\n",
    "    latent_input = layers.Input(shape=(latent_dim,), name=\"latent_input\")\n",
    "    macro_input = layers.Input(shape=(macro_dim,), name=\"macro_input_critic\")\n",
    "    x = layers.Concatenate(name=\"concat_critic\")([latent_input, macro_input])\n",
    "    x = layers.Dense(256, activation=\"relu\")(x)\n",
    "    x = layers.Dense(256, activation=\"relu\")(x)\n",
    "    x = layers.Dense(128, activation=\"relu\")(x)\n",
    "    x = layers.Dense(128, activation=\"relu\")(x)\n",
    "    x = layers.Dense(64, activation=\"relu\")(x)\n",
    "    output_score = layers.Dense(1, name=\"critic_score\")(x)\n",
    "    model = Model([latent_input, macro_input], output_score, name=\"conditional_critic\")\n",
    "    return model\n",
    "\n",
    "\n",
    "def gradient_penalty_cond(critic, real_latent, fake_latent, macro, batch_size):\n",
    "    alpha = tf.random.uniform([batch_size, 1], 0.0, 1.0)\n",
    "    interpolated_latent = alpha * real_latent + (1 - alpha) * fake_latent\n",
    "    with tf.GradientTape() as gp_tape:\n",
    "        gp_tape.watch(interpolated_latent)\n",
    "        interpolated_output = critic([interpolated_latent, macro])\n",
    "    grads = gp_tape.gradient(interpolated_output, [interpolated_latent])[0]\n",
    "    norm = tf.sqrt(tf.reduce_sum(tf.square(grads), axis=1) + 1e-12)\n",
    "    gp = tf.reduce_mean((norm - 1.0) ** 2)\n",
    "    return gp\n",
    "\n",
    "\n",
    "def train_conditional_wgan_gp(\n",
    "    generator,\n",
    "    critic,\n",
    "    real_latent,\n",
    "    real_macro,\n",
    "    noise_dim,\n",
    "    batch_size=32,\n",
    "    epochs=1000,\n",
    "    critic_iterations=5,\n",
    "    lambda_gp=10.0,\n",
    "):\n",
    "    gen_optimizer = tf.keras.optimizers.Adam(\n",
    "        learning_rate=0.0001, beta_1=0.5, beta_2=0.9\n",
    "    )\n",
    "    critic_optimizer = tf.keras.optimizers.Adam(\n",
    "        learning_rate=0.0001, beta_1=0.5, beta_2=0.9\n",
    "    )\n",
    "\n",
    "    dataset = tf.data.Dataset.from_tensor_slices(\n",
    "        (real_latent.astype(\"float32\"), real_macro.astype(\"float32\"))\n",
    "    )\n",
    "    dataset = dataset.shuffle(1024).batch(batch_size)\n",
    "\n",
    "    for epoch in range(1, epochs+1):\n",
    "        for latent_batch, macro_batch in dataset:\n",
    "            current_batch_size = tf.shape(macro_batch)[0]\n",
    "            for _ in range(critic_iterations):\n",
    "                noise = tf.random.normal([current_batch_size, noise_dim])\n",
    "                with tf.GradientTape() as tape:\n",
    "                    fake_latent = generator([noise, macro_batch])\n",
    "                    critic_real = critic([latent_batch, macro_batch])\n",
    "                    critic_fake = critic([fake_latent, macro_batch])\n",
    "                    gp = gradient_penalty_cond(\n",
    "                        critic,\n",
    "                        latent_batch,\n",
    "                        fake_latent,\n",
    "                        macro_batch,\n",
    "                        current_batch_size,\n",
    "                    )\n",
    "                    critic_loss = (\n",
    "                        tf.reduce_mean(critic_fake)\n",
    "                        - tf.reduce_mean(critic_real)\n",
    "                        + lambda_gp * gp\n",
    "                    )\n",
    "                grads = tape.gradient(critic_loss, critic.trainable_variables)\n",
    "                critic_optimizer.apply_gradients(zip(grads, critic.trainable_variables))\n",
    "\n",
    "            noise = tf.random.normal([current_batch_size, noise_dim])\n",
    "            with tf.GradientTape() as tape:\n",
    "                fake_latent = generator([noise, macro_batch])\n",
    "                gen_loss = -tf.reduce_mean(critic([fake_latent, macro_batch]))\n",
    "            grads = tape.gradient(gen_loss, generator.trainable_variables)\n",
    "            gen_optimizer.apply_gradients(zip(grads, generator.trainable_variables))\n",
    "\n",
    "        if epoch % 100 == 0 or epoch == 1:\n",
    "            print(f\"Epoch {epoch}: Critic Loss = {critic_loss.numpy():.4f}, Gen Loss = {gen_loss.numpy():.4f}\")\n",
    "\n",
    "    return generator"
   ]
  },
  {
   "cell_type": "markdown",
   "metadata": {},
   "source": [
    "## Metrics and Validation Functions"
   ]
  },
  {
   "cell_type": "code",
   "execution_count": 10,
   "metadata": {
    "execution": {
     "iopub.execute_input": "2025-03-02T05:38:49.203400Z",
     "iopub.status.busy": "2025-03-02T05:38:49.203332Z",
     "iopub.status.idle": "2025-03-02T05:38:49.205577Z",
     "shell.execute_reply": "2025-03-02T05:38:49.205304Z"
    }
   },
   "outputs": [],
   "source": [
    "def compute_portfolio_returns(returns_array, weights):\n",
    "    return returns_array.dot(weights)\n",
    "\n",
    "\n",
    "def calculate_var_es(portfolio_returns, alpha=5):\n",
    "    var_threshold = np.percentile(portfolio_returns, alpha)\n",
    "    es = portfolio_returns[portfolio_returns <= var_threshold].mean()\n",
    "    return var_threshold, es\n",
    "\n",
    "\n",
    "def select_extreme_scenarios(synthetic_returns, portfolio_weights, alpha=5):\n",
    "    portfolio_returns = compute_portfolio_returns(synthetic_returns, portfolio_weights)\n",
    "    var_threshold, es = calculate_var_es(portfolio_returns, alpha)\n",
    "    extreme_indices = np.where(portfolio_returns <= var_threshold)[0]\n",
    "    extreme_scenarios = synthetic_returns[extreme_indices]\n",
    "    return extreme_scenarios, var_threshold, es, portfolio_returns\n",
    "\n",
    "\n",
    "def jensen_shannon_divergence(p, q):\n",
    "    m = 0.5 * (p + q)\n",
    "    return 0.5 * (entropy(p, m) + entropy(q, m))"
   ]
  },
  {
   "cell_type": "markdown",
   "metadata": {},
   "source": [
    "## Clustering Function for Latent Space Scenarios"
   ]
  },
  {
   "cell_type": "code",
   "execution_count": 11,
   "metadata": {
    "execution": {
     "iopub.execute_input": "2025-03-02T05:38:49.206638Z",
     "iopub.status.busy": "2025-03-02T05:38:49.206569Z",
     "iopub.status.idle": "2025-03-02T05:38:49.208477Z",
     "shell.execute_reply": "2025-03-02T05:38:49.208211Z"
    }
   },
   "outputs": [],
   "source": [
    "def cluster_extreme_latent(z_codes, n_clusters=3):\n",
    "    kmeans = KMeans(n_clusters=n_clusters, random_state=42)\n",
    "    clusters = kmeans.fit_predict(z_codes)\n",
    "    global_center = np.mean(z_codes, axis=0)\n",
    "    distances = np.linalg.norm(kmeans.cluster_centers_ - global_center, axis=1)\n",
    "    extreme_cluster = np.argmax(distances)\n",
    "    extreme_indices = np.where(clusters == extreme_cluster)[0]\n",
    "    return extreme_indices, clusters, kmeans.cluster_centers_"
   ]
  },
  {
   "cell_type": "markdown",
   "metadata": {},
   "source": [
    "## Training and Stress Testing"
   ]
  },
  {
   "cell_type": "code",
   "execution_count": 12,
   "metadata": {
    "execution": {
     "iopub.execute_input": "2025-03-02T05:38:49.209541Z",
     "iopub.status.busy": "2025-03-02T05:38:49.209465Z",
     "iopub.status.idle": "2025-03-02T05:38:49.211226Z",
     "shell.execute_reply": "2025-03-02T05:38:49.210982Z"
    }
   },
   "outputs": [],
   "source": [
    "if macro_scaled is None:\n",
    "    raise ValueError(\"Macroeconomic indicators not available. Check FRED data\")\n",
    "\n",
    "n_samples = min(returns_scaled.shape[0], macro_scaled.shape[0])\n",
    "returns_scaled = returns_scaled[:n_samples]\n",
    "macro_scaled = macro_scaled[:n_samples]"
   ]
  },
  {
   "cell_type": "markdown",
   "metadata": {},
   "source": [
    "### VAE"
   ]
  },
  {
   "cell_type": "code",
   "execution_count": 13,
   "metadata": {
    "execution": {
     "iopub.execute_input": "2025-03-02T05:38:49.212240Z",
     "iopub.status.busy": "2025-03-02T05:38:49.212173Z",
     "iopub.status.idle": "2025-03-02T05:38:52.327593Z",
     "shell.execute_reply": "2025-03-02T05:38:52.327263Z"
    }
   },
   "outputs": [
    {
     "name": "stdout",
     "output_type": "stream",
     "text": [
      "Training Conditional VAE...\n",
      "Epoch 1/50\n"
     ]
    },
    {
     "name": "stderr",
     "output_type": "stream",
     "text": [
      "2025-03-02 00:38:49.218681: E external/local_xla/xla/stream_executor/cuda/cuda_driver.cc:152] failed call to cuInit: INTERNAL: CUDA error: Failed call to cuInit: CUDA_ERROR_UNKNOWN: unknown error\n",
      "2025-03-02 00:38:49.218699: I external/local_xla/xla/stream_executor/cuda/cuda_diagnostics.cc:137] retrieving CUDA diagnostic information for host: ggrrcc-MS-7E12\n",
      "2025-03-02 00:38:49.218703: I external/local_xla/xla/stream_executor/cuda/cuda_diagnostics.cc:144] hostname: ggrrcc-MS-7E12\n",
      "2025-03-02 00:38:49.218747: I external/local_xla/xla/stream_executor/cuda/cuda_diagnostics.cc:168] libcuda reported version is: 535.183.1\n",
      "2025-03-02 00:38:49.218758: I external/local_xla/xla/stream_executor/cuda/cuda_diagnostics.cc:172] kernel reported version is: 535.183.1\n",
      "2025-03-02 00:38:49.218761: I external/local_xla/xla/stream_executor/cuda/cuda_diagnostics.cc:259] kernel version seems to match DSO: 535.183.1\n"
     ]
    },
    {
     "name": "stdout",
     "output_type": "stream",
     "text": [
      "\r",
      "\u001b[1m 1/49\u001b[0m \u001b[37m━━━━━━━━━━━━━━━━━━━━\u001b[0m \u001b[1m30s\u001b[0m 637ms/step - loss: 0.9310"
     ]
    },
    {
     "name": "stdout",
     "output_type": "stream",
     "text": [
      "\b\b\b\b\b\b\b\b\b\b\b\b\b\b\b\b\b\b\b\b\b\b\b\b\b\b\b\b\b\b\b\b\b\b\b\b\b\b\b\b\b\b\b\b\b\b\b\b\b\b\b\b\b\b\b\b\r",
      "\u001b[1m49/49\u001b[0m \u001b[32m━━━━━━━━━━━━━━━━━━━━\u001b[0m\u001b[37m\u001b[0m \u001b[1m1s\u001b[0m 949us/step - loss: 1.1535 \n"
     ]
    },
    {
     "name": "stdout",
     "output_type": "stream",
     "text": [
      "Epoch 2/50\n"
     ]
    },
    {
     "name": "stdout",
     "output_type": "stream",
     "text": [
      "\r",
      "\u001b[1m 1/49\u001b[0m \u001b[37m━━━━━━━━━━━━━━━━━━━━\u001b[0m \u001b[1m0s\u001b[0m 10ms/step - loss: 1.0200"
     ]
    },
    {
     "name": "stdout",
     "output_type": "stream",
     "text": [
      "\b\b\b\b\b\b\b\b\b\b\b\b\b\b\b\b\b\b\b\b\b\b\b\b\b\b\b\b\b\b\b\b\b\b\b\b\b\b\b\b\b\b\b\b\b\b\b\b\b\b\b\b\b\b\r",
      "\u001b[1m49/49\u001b[0m \u001b[32m━━━━━━━━━━━━━━━━━━━━\u001b[0m\u001b[37m\u001b[0m \u001b[1m0s\u001b[0m 855us/step - loss: 1.0219\n"
     ]
    },
    {
     "name": "stdout",
     "output_type": "stream",
     "text": [
      "Epoch 3/50\n"
     ]
    },
    {
     "name": "stdout",
     "output_type": "stream",
     "text": [
      "\r",
      "\u001b[1m 1/49\u001b[0m \u001b[37m━━━━━━━━━━━━━━━━━━━━\u001b[0m \u001b[1m0s\u001b[0m 10ms/step - loss: 1.4900"
     ]
    },
    {
     "name": "stdout",
     "output_type": "stream",
     "text": [
      "\b\b\b\b\b\b\b\b\b\b\b\b\b\b\b\b\b\b\b\b\b\b\b\b\b\b\b\b\b\b\b\b\b\b\b\b\b\b\b\b\b\b\b\b\b\b\b\b\b\b\b\b\b\b\r",
      "\u001b[1m49/49\u001b[0m \u001b[32m━━━━━━━━━━━━━━━━━━━━\u001b[0m\u001b[37m\u001b[0m \u001b[1m0s\u001b[0m 882us/step - loss: 1.0484\n"
     ]
    },
    {
     "name": "stdout",
     "output_type": "stream",
     "text": [
      "Epoch 4/50\n"
     ]
    },
    {
     "name": "stdout",
     "output_type": "stream",
     "text": [
      "\r",
      "\u001b[1m 1/49\u001b[0m \u001b[37m━━━━━━━━━━━━━━━━━━━━\u001b[0m \u001b[1m0s\u001b[0m 11ms/step - loss: 1.8026"
     ]
    },
    {
     "name": "stdout",
     "output_type": "stream",
     "text": [
      "\b\b\b\b\b\b\b\b\b\b\b\b\b\b\b\b\b\b\b\b\b\b\b\b\b\b\b\b\b\b\b\b\b\b\b\b\b\b\b\b\b\b\b\b\b\b\b\b\b\b\b\b\b\b\r",
      "\u001b[1m49/49\u001b[0m \u001b[32m━━━━━━━━━━━━━━━━━━━━\u001b[0m\u001b[37m\u001b[0m \u001b[1m0s\u001b[0m 753us/step - loss: 0.9105\n"
     ]
    },
    {
     "name": "stdout",
     "output_type": "stream",
     "text": [
      "Epoch 5/50\n"
     ]
    },
    {
     "name": "stdout",
     "output_type": "stream",
     "text": [
      "\r",
      "\u001b[1m 1/49\u001b[0m \u001b[37m━━━━━━━━━━━━━━━━━━━━\u001b[0m \u001b[1m0s\u001b[0m 11ms/step - loss: 0.5257"
     ]
    },
    {
     "name": "stdout",
     "output_type": "stream",
     "text": [
      "\b\b\b\b\b\b\b\b\b\b\b\b\b\b\b\b\b\b\b\b\b\b\b\b\b\b\b\b\b\b\b\b\b\b\b\b\b\b\b\b\b\b\b\b\b\b\b\b\b\b\b\b\b\b\r",
      "\u001b[1m49/49\u001b[0m \u001b[32m━━━━━━━━━━━━━━━━━━━━\u001b[0m\u001b[37m\u001b[0m \u001b[1m0s\u001b[0m 754us/step - loss: 0.9854\n"
     ]
    },
    {
     "name": "stdout",
     "output_type": "stream",
     "text": [
      "Epoch 6/50\n"
     ]
    },
    {
     "name": "stdout",
     "output_type": "stream",
     "text": [
      "\r",
      "\u001b[1m 1/49\u001b[0m \u001b[37m━━━━━━━━━━━━━━━━━━━━\u001b[0m \u001b[1m0s\u001b[0m 10ms/step - loss: 0.8159"
     ]
    },
    {
     "name": "stdout",
     "output_type": "stream",
     "text": [
      "\b\b\b\b\b\b\b\b\b\b\b\b\b\b\b\b\b\b\b\b\b\b\b\b\b\b\b\b\b\b\b\b\b\b\b\b\b\b\b\b\b\b\b\b\b\b\b\b\b\b\b\b\b\b\r",
      "\u001b[1m49/49\u001b[0m \u001b[32m━━━━━━━━━━━━━━━━━━━━\u001b[0m\u001b[37m\u001b[0m \u001b[1m0s\u001b[0m 733us/step - loss: 0.8976\n"
     ]
    },
    {
     "name": "stdout",
     "output_type": "stream",
     "text": [
      "Epoch 7/50\n"
     ]
    },
    {
     "name": "stdout",
     "output_type": "stream",
     "text": [
      "\r",
      "\u001b[1m 1/49\u001b[0m \u001b[37m━━━━━━━━━━━━━━━━━━━━\u001b[0m \u001b[1m0s\u001b[0m 10ms/step - loss: 0.8215"
     ]
    },
    {
     "name": "stdout",
     "output_type": "stream",
     "text": [
      "\b\b\b\b\b\b\b\b\b\b\b\b\b\b\b\b\b\b\b\b\b\b\b\b\b\b\b\b\b\b\b\b\b\b\b\b\b\b\b\b\b\b\b\b\b\b\b\b\b\b\b\b\b\b\r",
      "\u001b[1m49/49\u001b[0m \u001b[32m━━━━━━━━━━━━━━━━━━━━\u001b[0m\u001b[37m\u001b[0m \u001b[1m0s\u001b[0m 736us/step - loss: 0.9793\n"
     ]
    },
    {
     "name": "stdout",
     "output_type": "stream",
     "text": [
      "Epoch 8/50\n"
     ]
    },
    {
     "name": "stdout",
     "output_type": "stream",
     "text": [
      "\r",
      "\u001b[1m 1/49\u001b[0m \u001b[37m━━━━━━━━━━━━━━━━━━━━\u001b[0m \u001b[1m0s\u001b[0m 9ms/step - loss: 0.8739"
     ]
    },
    {
     "name": "stdout",
     "output_type": "stream",
     "text": [
      "\b\b\b\b\b\b\b\b\b\b\b\b\b\b\b\b\b\b\b\b\b\b\b\b\b\b\b\b\b\b\b\b\b\b\b\b\b\b\b\b\b\b\b\b\b\b\b\b\b\b\b\b\b\r",
      "\u001b[1m49/49\u001b[0m \u001b[32m━━━━━━━━━━━━━━━━━━━━\u001b[0m\u001b[37m\u001b[0m \u001b[1m0s\u001b[0m 741us/step - loss: 0.9997\n"
     ]
    },
    {
     "name": "stdout",
     "output_type": "stream",
     "text": [
      "Epoch 9/50\n"
     ]
    },
    {
     "name": "stdout",
     "output_type": "stream",
     "text": [
      "\r",
      "\u001b[1m 1/49\u001b[0m \u001b[37m━━━━━━━━━━━━━━━━━━━━\u001b[0m \u001b[1m0s\u001b[0m 9ms/step - loss: 1.3952"
     ]
    },
    {
     "name": "stdout",
     "output_type": "stream",
     "text": [
      "\b\b\b\b\b\b\b\b\b\b\b\b\b\b\b\b\b\b\b\b\b\b\b\b\b\b\b\b\b\b\b\b\b\b\b\b\b\b\b\b\b\b\b\b\b\b\b\b\b\b\b\b\b\r",
      "\u001b[1m49/49\u001b[0m \u001b[32m━━━━━━━━━━━━━━━━━━━━\u001b[0m\u001b[37m\u001b[0m \u001b[1m0s\u001b[0m 723us/step - loss: 1.0441\n"
     ]
    },
    {
     "name": "stdout",
     "output_type": "stream",
     "text": [
      "Epoch 10/50\n"
     ]
    },
    {
     "name": "stdout",
     "output_type": "stream",
     "text": [
      "\r",
      "\u001b[1m 1/49\u001b[0m \u001b[37m━━━━━━━━━━━━━━━━━━━━\u001b[0m \u001b[1m0s\u001b[0m 9ms/step - loss: 0.9134"
     ]
    },
    {
     "name": "stdout",
     "output_type": "stream",
     "text": [
      "\b\b\b\b\b\b\b\b\b\b\b\b\b\b\b\b\b\b\b\b\b\b\b\b\b\b\b\b\b\b\b\b\b\b\b\b\b\b\b\b\b\b\b\b\b\b\b\b\b\b\b\b\b\r",
      "\u001b[1m49/49\u001b[0m \u001b[32m━━━━━━━━━━━━━━━━━━━━\u001b[0m\u001b[37m\u001b[0m \u001b[1m0s\u001b[0m 743us/step - loss: 1.1021\n"
     ]
    },
    {
     "name": "stdout",
     "output_type": "stream",
     "text": [
      "Epoch 11/50\n"
     ]
    },
    {
     "name": "stdout",
     "output_type": "stream",
     "text": [
      "\r",
      "\u001b[1m 1/49\u001b[0m \u001b[37m━━━━━━━━━━━━━━━━━━━━\u001b[0m \u001b[1m0s\u001b[0m 10ms/step - loss: 0.8976"
     ]
    },
    {
     "name": "stdout",
     "output_type": "stream",
     "text": [
      "\b\b\b\b\b\b\b\b\b\b\b\b\b\b\b\b\b\b\b\b\b\b\b\b\b\b\b\b\b\b\b\b\b\b\b\b\b\b\b\b\b\b\b\b\b\b\b\b\b\b\b\b\b\b\r",
      "\u001b[1m49/49\u001b[0m \u001b[32m━━━━━━━━━━━━━━━━━━━━\u001b[0m\u001b[37m\u001b[0m \u001b[1m0s\u001b[0m 756us/step - loss: 1.0378\n"
     ]
    },
    {
     "name": "stdout",
     "output_type": "stream",
     "text": [
      "Epoch 12/50\n"
     ]
    },
    {
     "name": "stdout",
     "output_type": "stream",
     "text": [
      "\r",
      "\u001b[1m 1/49\u001b[0m \u001b[37m━━━━━━━━━━━━━━━━━━━━\u001b[0m \u001b[1m0s\u001b[0m 10ms/step - loss: 0.8507"
     ]
    },
    {
     "name": "stdout",
     "output_type": "stream",
     "text": [
      "\b\b\b\b\b\b\b\b\b\b\b\b\b\b\b\b\b\b\b\b\b\b\b\b\b\b\b\b\b\b\b\b\b\b\b\b\b\b\b\b\b\b\b\b\b\b\b\b\b\b\b\b\b\b\r",
      "\u001b[1m49/49\u001b[0m \u001b[32m━━━━━━━━━━━━━━━━━━━━\u001b[0m\u001b[37m\u001b[0m \u001b[1m0s\u001b[0m 741us/step - loss: 0.8873\n"
     ]
    },
    {
     "name": "stdout",
     "output_type": "stream",
     "text": [
      "Epoch 13/50\n"
     ]
    },
    {
     "name": "stdout",
     "output_type": "stream",
     "text": [
      "\r",
      "\u001b[1m 1/49\u001b[0m \u001b[37m━━━━━━━━━━━━━━━━━━━━\u001b[0m \u001b[1m0s\u001b[0m 10ms/step - loss: 0.8963"
     ]
    },
    {
     "name": "stdout",
     "output_type": "stream",
     "text": [
      "\b\b\b\b\b\b\b\b\b\b\b\b\b\b\b\b\b\b\b\b\b\b\b\b\b\b\b\b\b\b\b\b\b\b\b\b\b\b\b\b\b\b\b\b\b\b\b\b\b\b\b\b\b\b\r",
      "\u001b[1m49/49\u001b[0m \u001b[32m━━━━━━━━━━━━━━━━━━━━\u001b[0m\u001b[37m\u001b[0m \u001b[1m0s\u001b[0m 731us/step - loss: 0.9468\n"
     ]
    },
    {
     "name": "stdout",
     "output_type": "stream",
     "text": [
      "Epoch 14/50\n"
     ]
    },
    {
     "name": "stdout",
     "output_type": "stream",
     "text": [
      "\r",
      "\u001b[1m 1/49\u001b[0m \u001b[37m━━━━━━━━━━━━━━━━━━━━\u001b[0m \u001b[1m0s\u001b[0m 9ms/step - loss: 0.8048"
     ]
    },
    {
     "name": "stdout",
     "output_type": "stream",
     "text": [
      "\b\b\b\b\b\b\b\b\b\b\b\b\b\b\b\b\b\b\b\b\b\b\b\b\b\b\b\b\b\b\b\b\b\b\b\b\b\b\b\b\b\b\b\b\b\b\b\b\b\b\b\b\b\r",
      "\u001b[1m49/49\u001b[0m \u001b[32m━━━━━━━━━━━━━━━━━━━━\u001b[0m\u001b[37m\u001b[0m \u001b[1m0s\u001b[0m 734us/step - loss: 1.1968\n"
     ]
    },
    {
     "name": "stdout",
     "output_type": "stream",
     "text": [
      "Epoch 15/50\n"
     ]
    },
    {
     "name": "stdout",
     "output_type": "stream",
     "text": [
      "\r",
      "\u001b[1m 1/49\u001b[0m \u001b[37m━━━━━━━━━━━━━━━━━━━━\u001b[0m \u001b[1m0s\u001b[0m 10ms/step - loss: 0.9119"
     ]
    },
    {
     "name": "stdout",
     "output_type": "stream",
     "text": [
      "\b\b\b\b\b\b\b\b\b\b\b\b\b\b\b\b\b\b\b\b\b\b\b\b\b\b\b\b\b\b\b\b\b\b\b\b\b\b\b\b\b\b\b\b\b\b\b\b\b\b\b\b\b\b\r",
      "\u001b[1m49/49\u001b[0m \u001b[32m━━━━━━━━━━━━━━━━━━━━\u001b[0m\u001b[37m\u001b[0m \u001b[1m0s\u001b[0m 769us/step - loss: 0.8983\n"
     ]
    },
    {
     "name": "stdout",
     "output_type": "stream",
     "text": [
      "Epoch 16/50\n"
     ]
    },
    {
     "name": "stdout",
     "output_type": "stream",
     "text": [
      "\r",
      "\u001b[1m 1/49\u001b[0m \u001b[37m━━━━━━━━━━━━━━━━━━━━\u001b[0m \u001b[1m0s\u001b[0m 11ms/step - loss: 0.7982"
     ]
    },
    {
     "name": "stdout",
     "output_type": "stream",
     "text": [
      "\b\b\b\b\b\b\b\b\b\b\b\b\b\b\b\b\b\b\b\b\b\b\b\b\b\b\b\b\b\b\b\b\b\b\b\b\b\b\b\b\b\b\b\b\b\b\b\b\b\b\b\b\b\b\r",
      "\u001b[1m49/49\u001b[0m \u001b[32m━━━━━━━━━━━━━━━━━━━━\u001b[0m\u001b[37m\u001b[0m \u001b[1m0s\u001b[0m 751us/step - loss: 0.8673\n"
     ]
    },
    {
     "name": "stdout",
     "output_type": "stream",
     "text": [
      "Epoch 17/50\n"
     ]
    },
    {
     "name": "stdout",
     "output_type": "stream",
     "text": [
      "\r",
      "\u001b[1m 1/49\u001b[0m \u001b[37m━━━━━━━━━━━━━━━━━━━━\u001b[0m \u001b[1m0s\u001b[0m 11ms/step - loss: 0.7565"
     ]
    },
    {
     "name": "stdout",
     "output_type": "stream",
     "text": [
      "\b\b\b\b\b\b\b\b\b\b\b\b\b\b\b\b\b\b\b\b\b\b\b\b\b\b\b\b\b\b\b\b\b\b\b\b\b\b\b\b\b\b\b\b\b\b\b\b\b\b\b\b\b\b\r",
      "\u001b[1m49/49\u001b[0m \u001b[32m━━━━━━━━━━━━━━━━━━━━\u001b[0m\u001b[37m\u001b[0m \u001b[1m0s\u001b[0m 748us/step - loss: 0.9223\n"
     ]
    },
    {
     "name": "stdout",
     "output_type": "stream",
     "text": [
      "Epoch 18/50\n"
     ]
    },
    {
     "name": "stdout",
     "output_type": "stream",
     "text": [
      "\r",
      "\u001b[1m 1/49\u001b[0m \u001b[37m━━━━━━━━━━━━━━━━━━━━\u001b[0m \u001b[1m0s\u001b[0m 10ms/step - loss: 0.7435"
     ]
    },
    {
     "name": "stdout",
     "output_type": "stream",
     "text": [
      "\b\b\b\b\b\b\b\b\b\b\b\b\b\b\b\b\b\b\b\b\b\b\b\b\b\b\b\b\b\b\b\b\b\b\b\b\b\b\b\b\b\b\b\b\b\b\b\b\b\b\b\b\b\b\r",
      "\u001b[1m49/49\u001b[0m \u001b[32m━━━━━━━━━━━━━━━━━━━━\u001b[0m\u001b[37m\u001b[0m \u001b[1m0s\u001b[0m 729us/step - loss: 0.9059\n"
     ]
    },
    {
     "name": "stdout",
     "output_type": "stream",
     "text": [
      "Epoch 19/50\n"
     ]
    },
    {
     "name": "stdout",
     "output_type": "stream",
     "text": [
      "\r",
      "\u001b[1m 1/49\u001b[0m \u001b[37m━━━━━━━━━━━━━━━━━━━━\u001b[0m \u001b[1m0s\u001b[0m 10ms/step - loss: 0.7962"
     ]
    },
    {
     "name": "stdout",
     "output_type": "stream",
     "text": [
      "\b\b\b\b\b\b\b\b\b\b\b\b\b\b\b\b\b\b\b\b\b\b\b\b\b\b\b\b\b\b\b\b\b\b\b\b\b\b\b\b\b\b\b\b\b\b\b\b\b\b\b\b\b\b\r",
      "\u001b[1m49/49\u001b[0m \u001b[32m━━━━━━━━━━━━━━━━━━━━\u001b[0m\u001b[37m\u001b[0m \u001b[1m0s\u001b[0m 724us/step - loss: 0.8567\n"
     ]
    },
    {
     "name": "stdout",
     "output_type": "stream",
     "text": [
      "Epoch 20/50\n"
     ]
    },
    {
     "name": "stdout",
     "output_type": "stream",
     "text": [
      "\r",
      "\u001b[1m 1/49\u001b[0m \u001b[37m━━━━━━━━━━━━━━━━━━━━\u001b[0m \u001b[1m0s\u001b[0m 10ms/step - loss: 1.0761"
     ]
    },
    {
     "name": "stdout",
     "output_type": "stream",
     "text": [
      "\b\b\b\b\b\b\b\b\b\b\b\b\b\b\b\b\b\b\b\b\b\b\b\b\b\b\b\b\b\b\b\b\b\b\b\b\b\b\b\b\b\b\b\b\b\b\b\b\b\b\b\b\b\b\r",
      "\u001b[1m49/49\u001b[0m \u001b[32m━━━━━━━━━━━━━━━━━━━━\u001b[0m\u001b[37m\u001b[0m \u001b[1m0s\u001b[0m 699us/step - loss: 0.8623\n"
     ]
    },
    {
     "name": "stdout",
     "output_type": "stream",
     "text": [
      "Epoch 21/50\n"
     ]
    },
    {
     "name": "stdout",
     "output_type": "stream",
     "text": [
      "\r",
      "\u001b[1m 1/49\u001b[0m \u001b[37m━━━━━━━━━━━━━━━━━━━━\u001b[0m \u001b[1m0s\u001b[0m 10ms/step - loss: 0.5951"
     ]
    },
    {
     "name": "stdout",
     "output_type": "stream",
     "text": [
      "\b\b\b\b\b\b\b\b\b\b\b\b\b\b\b\b\b\b\b\b\b\b\b\b\b\b\b\b\b\b\b\b\b\b\b\b\b\b\b\b\b\b\b\b\b\b\b\b\b\b\b\b\b\b\r",
      "\u001b[1m49/49\u001b[0m \u001b[32m━━━━━━━━━━━━━━━━━━━━\u001b[0m\u001b[37m\u001b[0m \u001b[1m0s\u001b[0m 746us/step - loss: 0.9344\n"
     ]
    },
    {
     "name": "stdout",
     "output_type": "stream",
     "text": [
      "Epoch 22/50\n"
     ]
    },
    {
     "name": "stdout",
     "output_type": "stream",
     "text": [
      "\r",
      "\u001b[1m 1/49\u001b[0m \u001b[37m━━━━━━━━━━━━━━━━━━━━\u001b[0m \u001b[1m0s\u001b[0m 10ms/step - loss: 0.7363"
     ]
    },
    {
     "name": "stdout",
     "output_type": "stream",
     "text": [
      "\b\b\b\b\b\b\b\b\b\b\b\b\b\b\b\b\b\b\b\b\b\b\b\b\b\b\b\b\b\b\b\b\b\b\b\b\b\b\b\b\b\b\b\b\b\b\b\b\b\b\b\b\b\b\r",
      "\u001b[1m49/49\u001b[0m \u001b[32m━━━━━━━━━━━━━━━━━━━━\u001b[0m\u001b[37m\u001b[0m \u001b[1m0s\u001b[0m 749us/step - loss: 0.8970\n"
     ]
    },
    {
     "name": "stdout",
     "output_type": "stream",
     "text": [
      "Epoch 23/50\n"
     ]
    },
    {
     "name": "stdout",
     "output_type": "stream",
     "text": [
      "\r",
      "\u001b[1m 1/49\u001b[0m \u001b[37m━━━━━━━━━━━━━━━━━━━━\u001b[0m \u001b[1m0s\u001b[0m 9ms/step - loss: 0.7988"
     ]
    },
    {
     "name": "stdout",
     "output_type": "stream",
     "text": [
      "\b\b\b\b\b\b\b\b\b\b\b\b\b\b\b\b\b\b\b\b\b\b\b\b\b\b\b\b\b\b\b\b\b\b\b\b\b\b\b\b\b\b\b\b\b\b\b\b\b\b\b\b\b\r",
      "\u001b[1m49/49\u001b[0m \u001b[32m━━━━━━━━━━━━━━━━━━━━\u001b[0m\u001b[37m\u001b[0m \u001b[1m0s\u001b[0m 771us/step - loss: 0.8464\n"
     ]
    },
    {
     "name": "stdout",
     "output_type": "stream",
     "text": [
      "Epoch 24/50\n"
     ]
    },
    {
     "name": "stdout",
     "output_type": "stream",
     "text": [
      "\r",
      "\u001b[1m 1/49\u001b[0m \u001b[37m━━━━━━━━━━━━━━━━━━━━\u001b[0m \u001b[1m0s\u001b[0m 10ms/step - loss: 0.4360"
     ]
    },
    {
     "name": "stdout",
     "output_type": "stream",
     "text": [
      "\b\b\b\b\b\b\b\b\b\b\b\b\b\b\b\b\b\b\b\b\b\b\b\b\b\b\b\b\b\b\b\b\b\b\b\b\b\b\b\b\b\b\b\b\b\b\b\b\b\b\b\b\b\b\r",
      "\u001b[1m49/49\u001b[0m \u001b[32m━━━━━━━━━━━━━━━━━━━━\u001b[0m\u001b[37m\u001b[0m \u001b[1m0s\u001b[0m 740us/step - loss: 0.8392\n"
     ]
    },
    {
     "name": "stdout",
     "output_type": "stream",
     "text": [
      "Epoch 25/50\n"
     ]
    },
    {
     "name": "stdout",
     "output_type": "stream",
     "text": [
      "\r",
      "\u001b[1m 1/49\u001b[0m \u001b[37m━━━━━━━━━━━━━━━━━━━━\u001b[0m \u001b[1m0s\u001b[0m 10ms/step - loss: 1.0965"
     ]
    },
    {
     "name": "stdout",
     "output_type": "stream",
     "text": [
      "\b\b\b\b\b\b\b\b\b\b\b\b\b\b\b\b\b\b\b\b\b\b\b\b\b\b\b\b\b\b\b\b\b\b\b\b\b\b\b\b\b\b\b\b\b\b\b\b\b\b\b\b\b\b\r",
      "\u001b[1m49/49\u001b[0m \u001b[32m━━━━━━━━━━━━━━━━━━━━\u001b[0m\u001b[37m\u001b[0m \u001b[1m0s\u001b[0m 760us/step - loss: 0.8887\n"
     ]
    },
    {
     "name": "stdout",
     "output_type": "stream",
     "text": [
      "Epoch 26/50\n"
     ]
    },
    {
     "name": "stdout",
     "output_type": "stream",
     "text": [
      "\r",
      "\u001b[1m 1/49\u001b[0m \u001b[37m━━━━━━━━━━━━━━━━━━━━\u001b[0m \u001b[1m0s\u001b[0m 10ms/step - loss: 0.7502"
     ]
    },
    {
     "name": "stdout",
     "output_type": "stream",
     "text": [
      "\b\b\b\b\b\b\b\b\b\b\b\b\b\b\b\b\b\b\b\b\b\b\b\b\b\b\b\b\b\b\b\b\b\b\b\b\b\b\b\b\b\b\b\b\b\b\b\b\b\b\b\b\b\b\r",
      "\u001b[1m49/49\u001b[0m \u001b[32m━━━━━━━━━━━━━━━━━━━━\u001b[0m\u001b[37m\u001b[0m \u001b[1m0s\u001b[0m 744us/step - loss: 0.8413\n"
     ]
    },
    {
     "name": "stdout",
     "output_type": "stream",
     "text": [
      "Epoch 27/50\n"
     ]
    },
    {
     "name": "stdout",
     "output_type": "stream",
     "text": [
      "\r",
      "\u001b[1m 1/49\u001b[0m \u001b[37m━━━━━━━━━━━━━━━━━━━━\u001b[0m \u001b[1m0s\u001b[0m 10ms/step - loss: 2.7091"
     ]
    },
    {
     "name": "stdout",
     "output_type": "stream",
     "text": [
      "\b\b\b\b\b\b\b\b\b\b\b\b\b\b\b\b\b\b\b\b\b\b\b\b\b\b\b\b\b\b\b\b\b\b\b\b\b\b\b\b\b\b\b\b\b\b\b\b\b\b\b\b\b\b\r",
      "\u001b[1m49/49\u001b[0m \u001b[32m━━━━━━━━━━━━━━━━━━━━\u001b[0m\u001b[37m\u001b[0m \u001b[1m0s\u001b[0m 758us/step - loss: 1.1200\n"
     ]
    },
    {
     "name": "stdout",
     "output_type": "stream",
     "text": [
      "Epoch 28/50\n"
     ]
    },
    {
     "name": "stdout",
     "output_type": "stream",
     "text": [
      "\r",
      "\u001b[1m 1/49\u001b[0m \u001b[37m━━━━━━━━━━━━━━━━━━━━\u001b[0m \u001b[1m0s\u001b[0m 11ms/step - loss: 0.6001"
     ]
    },
    {
     "name": "stdout",
     "output_type": "stream",
     "text": [
      "\b\b\b\b\b\b\b\b\b\b\b\b\b\b\b\b\b\b\b\b\b\b\b\b\b\b\b\b\b\b\b\b\b\b\b\b\b\b\b\b\b\b\b\b\b\b\b\b\b\b\b\b\b\b\r",
      "\u001b[1m49/49\u001b[0m \u001b[32m━━━━━━━━━━━━━━━━━━━━\u001b[0m\u001b[37m\u001b[0m \u001b[1m0s\u001b[0m 730us/step - loss: 0.9132\n"
     ]
    },
    {
     "name": "stdout",
     "output_type": "stream",
     "text": [
      "Epoch 29/50\n"
     ]
    },
    {
     "name": "stdout",
     "output_type": "stream",
     "text": [
      "\r",
      "\u001b[1m 1/49\u001b[0m \u001b[37m━━━━━━━━━━━━━━━━━━━━\u001b[0m \u001b[1m0s\u001b[0m 10ms/step - loss: 0.9642"
     ]
    },
    {
     "name": "stdout",
     "output_type": "stream",
     "text": [
      "\b\b\b\b\b\b\b\b\b\b\b\b\b\b\b\b\b\b\b\b\b\b\b\b\b\b\b\b\b\b\b\b\b\b\b\b\b\b\b\b\b\b\b\b\b\b\b\b\b\b\b\b\b\b\r",
      "\u001b[1m49/49\u001b[0m \u001b[32m━━━━━━━━━━━━━━━━━━━━\u001b[0m\u001b[37m\u001b[0m \u001b[1m0s\u001b[0m 738us/step - loss: 0.9561\n"
     ]
    },
    {
     "name": "stdout",
     "output_type": "stream",
     "text": [
      "Epoch 30/50\n"
     ]
    },
    {
     "name": "stdout",
     "output_type": "stream",
     "text": [
      "\r",
      "\u001b[1m 1/49\u001b[0m \u001b[37m━━━━━━━━━━━━━━━━━━━━\u001b[0m \u001b[1m0s\u001b[0m 10ms/step - loss: 0.7835"
     ]
    },
    {
     "name": "stdout",
     "output_type": "stream",
     "text": [
      "\b\b\b\b\b\b\b\b\b\b\b\b\b\b\b\b\b\b\b\b\b\b\b\b\b\b\b\b\b\b\b\b\b\b\b\b\b\b\b\b\b\b\b\b\b\b\b\b\b\b\b\b\b\b\r",
      "\u001b[1m49/49\u001b[0m \u001b[32m━━━━━━━━━━━━━━━━━━━━\u001b[0m\u001b[37m\u001b[0m \u001b[1m0s\u001b[0m 734us/step - loss: 0.8661\n"
     ]
    },
    {
     "name": "stdout",
     "output_type": "stream",
     "text": [
      "Epoch 31/50\n"
     ]
    },
    {
     "name": "stdout",
     "output_type": "stream",
     "text": [
      "\r",
      "\u001b[1m 1/49\u001b[0m \u001b[37m━━━━━━━━━━━━━━━━━━━━\u001b[0m \u001b[1m0s\u001b[0m 10ms/step - loss: 0.6516"
     ]
    },
    {
     "name": "stdout",
     "output_type": "stream",
     "text": [
      "\b\b\b\b\b\b\b\b\b\b\b\b\b\b\b\b\b\b\b\b\b\b\b\b\b\b\b\b\b\b\b\b\b\b\b\b\b\b\b\b\b\b\b\b\b\b\b\b\b\b\b\b\b\b\r",
      "\u001b[1m49/49\u001b[0m \u001b[32m━━━━━━━━━━━━━━━━━━━━\u001b[0m\u001b[37m\u001b[0m \u001b[1m0s\u001b[0m 773us/step - loss: 0.8715\n"
     ]
    },
    {
     "name": "stdout",
     "output_type": "stream",
     "text": [
      "Epoch 32/50\n"
     ]
    },
    {
     "name": "stdout",
     "output_type": "stream",
     "text": [
      "\r",
      "\u001b[1m 1/49\u001b[0m \u001b[37m━━━━━━━━━━━━━━━━━━━━\u001b[0m \u001b[1m0s\u001b[0m 10ms/step - loss: 1.0612"
     ]
    },
    {
     "name": "stdout",
     "output_type": "stream",
     "text": [
      "\b\b\b\b\b\b\b\b\b\b\b\b\b\b\b\b\b\b\b\b\b\b\b\b\b\b\b\b\b\b\b\b\b\b\b\b\b\b\b\b\b\b\b\b\b\b\b\b\b\b\b\b\b\b\r",
      "\u001b[1m49/49\u001b[0m \u001b[32m━━━━━━━━━━━━━━━━━━━━\u001b[0m\u001b[37m\u001b[0m \u001b[1m0s\u001b[0m 747us/step - loss: 0.9188\n"
     ]
    },
    {
     "name": "stdout",
     "output_type": "stream",
     "text": [
      "Epoch 33/50\n"
     ]
    },
    {
     "name": "stdout",
     "output_type": "stream",
     "text": [
      "\r",
      "\u001b[1m 1/49\u001b[0m \u001b[37m━━━━━━━━━━━━━━━━━━━━\u001b[0m \u001b[1m0s\u001b[0m 11ms/step - loss: 1.0250"
     ]
    },
    {
     "name": "stdout",
     "output_type": "stream",
     "text": [
      "\b\b\b\b\b\b\b\b\b\b\b\b\b\b\b\b\b\b\b\b\b\b\b\b\b\b\b\b\b\b\b\b\b\b\b\b\b\b\b\b\b\b\b\b\b\b\b\b\b\b\b\b\b\b\r",
      "\u001b[1m49/49\u001b[0m \u001b[32m━━━━━━━━━━━━━━━━━━━━\u001b[0m\u001b[37m\u001b[0m \u001b[1m0s\u001b[0m 694us/step - loss: 0.8979\n"
     ]
    },
    {
     "name": "stdout",
     "output_type": "stream",
     "text": [
      "Epoch 34/50\n"
     ]
    },
    {
     "name": "stdout",
     "output_type": "stream",
     "text": [
      "\r",
      "\u001b[1m 1/49\u001b[0m \u001b[37m━━━━━━━━━━━━━━━━━━━━\u001b[0m \u001b[1m0s\u001b[0m 10ms/step - loss: 0.7217"
     ]
    },
    {
     "name": "stdout",
     "output_type": "stream",
     "text": [
      "\b\b\b\b\b\b\b\b\b\b\b\b\b\b\b\b\b\b\b\b\b\b\b\b\b\b\b\b\b\b\b\b\b\b\b\b\b\b\b\b\b\b\b\b\b\b\b\b\b\b\b\b\b\b\r",
      "\u001b[1m49/49\u001b[0m \u001b[32m━━━━━━━━━━━━━━━━━━━━\u001b[0m\u001b[37m\u001b[0m \u001b[1m0s\u001b[0m 707us/step - loss: 0.9054\n"
     ]
    },
    {
     "name": "stdout",
     "output_type": "stream",
     "text": [
      "Epoch 35/50\n"
     ]
    },
    {
     "name": "stdout",
     "output_type": "stream",
     "text": [
      "\r",
      "\u001b[1m 1/49\u001b[0m \u001b[37m━━━━━━━━━━━━━━━━━━━━\u001b[0m \u001b[1m0s\u001b[0m 10ms/step - loss: 1.2946"
     ]
    },
    {
     "name": "stdout",
     "output_type": "stream",
     "text": [
      "\b\b\b\b\b\b\b\b\b\b\b\b\b\b\b\b\b\b\b\b\b\b\b\b\b\b\b\b\b\b\b\b\b\b\b\b\b\b\b\b\b\b\b\b\b\b\b\b\b\b\b\b\b\b\r",
      "\u001b[1m49/49\u001b[0m \u001b[32m━━━━━━━━━━━━━━━━━━━━\u001b[0m\u001b[37m\u001b[0m \u001b[1m0s\u001b[0m 727us/step - loss: 0.9143\n"
     ]
    },
    {
     "name": "stdout",
     "output_type": "stream",
     "text": [
      "Epoch 36/50\n"
     ]
    },
    {
     "name": "stdout",
     "output_type": "stream",
     "text": [
      "\r",
      "\u001b[1m 1/49\u001b[0m \u001b[37m━━━━━━━━━━━━━━━━━━━━\u001b[0m \u001b[1m0s\u001b[0m 10ms/step - loss: 0.6151"
     ]
    },
    {
     "name": "stdout",
     "output_type": "stream",
     "text": [
      "\b\b\b\b\b\b\b\b\b\b\b\b\b\b\b\b\b\b\b\b\b\b\b\b\b\b\b\b\b\b\b\b\b\b\b\b\b\b\b\b\b\b\b\b\b\b\b\b\b\b\b\b\b\b\r",
      "\u001b[1m49/49\u001b[0m \u001b[32m━━━━━━━━━━━━━━━━━━━━\u001b[0m\u001b[37m\u001b[0m \u001b[1m0s\u001b[0m 726us/step - loss: 0.8726\n"
     ]
    },
    {
     "name": "stdout",
     "output_type": "stream",
     "text": [
      "Epoch 37/50\n"
     ]
    },
    {
     "name": "stdout",
     "output_type": "stream",
     "text": [
      "\r",
      "\u001b[1m 1/49\u001b[0m \u001b[37m━━━━━━━━━━━━━━━━━━━━\u001b[0m \u001b[1m0s\u001b[0m 10ms/step - loss: 0.9957"
     ]
    },
    {
     "name": "stdout",
     "output_type": "stream",
     "text": [
      "\b\b\b\b\b\b\b\b\b\b\b\b\b\b\b\b\b\b\b\b\b\b\b\b\b\b\b\b\b\b\b\b\b\b\b\b\b\b\b\b\b\b\b\b\b\b\b\b\b\b\b\b\b\b\r",
      "\u001b[1m49/49\u001b[0m \u001b[32m━━━━━━━━━━━━━━━━━━━━\u001b[0m\u001b[37m\u001b[0m \u001b[1m0s\u001b[0m 739us/step - loss: 0.9179\n"
     ]
    },
    {
     "name": "stdout",
     "output_type": "stream",
     "text": [
      "Epoch 38/50\n"
     ]
    },
    {
     "name": "stdout",
     "output_type": "stream",
     "text": [
      "\r",
      "\u001b[1m 1/49\u001b[0m \u001b[37m━━━━━━━━━━━━━━━━━━━━\u001b[0m \u001b[1m0s\u001b[0m 10ms/step - loss: 0.6970"
     ]
    },
    {
     "name": "stdout",
     "output_type": "stream",
     "text": [
      "\b\b\b\b\b\b\b\b\b\b\b\b\b\b\b\b\b\b\b\b\b\b\b\b\b\b\b\b\b\b\b\b\b\b\b\b\b\b\b\b\b\b\b\b\b\b\b\b\b\b\b\b\b\b\r",
      "\u001b[1m49/49\u001b[0m \u001b[32m━━━━━━━━━━━━━━━━━━━━\u001b[0m\u001b[37m\u001b[0m \u001b[1m0s\u001b[0m 731us/step - loss: 0.8274\n"
     ]
    },
    {
     "name": "stdout",
     "output_type": "stream",
     "text": [
      "Epoch 39/50\n"
     ]
    },
    {
     "name": "stdout",
     "output_type": "stream",
     "text": [
      "\r",
      "\u001b[1m 1/49\u001b[0m \u001b[37m━━━━━━━━━━━━━━━━━━━━\u001b[0m \u001b[1m0s\u001b[0m 10ms/step - loss: 0.8726"
     ]
    },
    {
     "name": "stdout",
     "output_type": "stream",
     "text": [
      "\b\b\b\b\b\b\b\b\b\b\b\b\b\b\b\b\b\b\b\b\b\b\b\b\b\b\b\b\b\b\b\b\b\b\b\b\b\b\b\b\b\b\b\b\b\b\b\b\b\b\b\b\b\b\r",
      "\u001b[1m49/49\u001b[0m \u001b[32m━━━━━━━━━━━━━━━━━━━━\u001b[0m\u001b[37m\u001b[0m \u001b[1m0s\u001b[0m 815us/step - loss: 0.8953\n"
     ]
    },
    {
     "name": "stdout",
     "output_type": "stream",
     "text": [
      "Epoch 40/50\n"
     ]
    },
    {
     "name": "stdout",
     "output_type": "stream",
     "text": [
      "\r",
      "\u001b[1m 1/49\u001b[0m \u001b[37m━━━━━━━━━━━━━━━━━━━━\u001b[0m \u001b[1m0s\u001b[0m 10ms/step - loss: 1.4165"
     ]
    },
    {
     "name": "stdout",
     "output_type": "stream",
     "text": [
      "\b\b\b\b\b\b\b\b\b\b\b\b\b\b\b\b\b\b\b\b\b\b\b\b\b\b\b\b\b\b\b\b\b\b\b\b\b\b\b\b\b\b\b\b\b\b\b\b\b\b\b\b\b\b\r",
      "\u001b[1m49/49\u001b[0m \u001b[32m━━━━━━━━━━━━━━━━━━━━\u001b[0m\u001b[37m\u001b[0m \u001b[1m0s\u001b[0m 756us/step - loss: 0.9626\n"
     ]
    },
    {
     "name": "stdout",
     "output_type": "stream",
     "text": [
      "Epoch 41/50\n"
     ]
    },
    {
     "name": "stdout",
     "output_type": "stream",
     "text": [
      "\r",
      "\u001b[1m 1/49\u001b[0m \u001b[37m━━━━━━━━━━━━━━━━━━━━\u001b[0m \u001b[1m0s\u001b[0m 10ms/step - loss: 0.5514"
     ]
    },
    {
     "name": "stdout",
     "output_type": "stream",
     "text": [
      "\b\b\b\b\b\b\b\b\b\b\b\b\b\b\b\b\b\b\b\b\b\b\b\b\b\b\b\b\b\b\b\b\b\b\b\b\b\b\b\b\b\b\b\b\b\b\b\b\b\b\b\b\b\b\r",
      "\u001b[1m49/49\u001b[0m \u001b[32m━━━━━━━━━━━━━━━━━━━━\u001b[0m\u001b[37m\u001b[0m \u001b[1m0s\u001b[0m 751us/step - loss: 0.8525\n"
     ]
    },
    {
     "name": "stdout",
     "output_type": "stream",
     "text": [
      "Epoch 42/50\n"
     ]
    },
    {
     "name": "stdout",
     "output_type": "stream",
     "text": [
      "\r",
      "\u001b[1m 1/49\u001b[0m \u001b[37m━━━━━━━━━━━━━━━━━━━━\u001b[0m \u001b[1m0s\u001b[0m 10ms/step - loss: 1.1744"
     ]
    },
    {
     "name": "stdout",
     "output_type": "stream",
     "text": [
      "\b\b\b\b\b\b\b\b\b\b\b\b\b\b\b\b\b\b\b\b\b\b\b\b\b\b\b\b\b\b\b\b\b\b\b\b\b\b\b\b\b\b\b\b\b\b\b\b\b\b\b\b\b\b\r",
      "\u001b[1m49/49\u001b[0m \u001b[32m━━━━━━━━━━━━━━━━━━━━\u001b[0m\u001b[37m\u001b[0m \u001b[1m0s\u001b[0m 745us/step - loss: 0.8882\n"
     ]
    },
    {
     "name": "stdout",
     "output_type": "stream",
     "text": [
      "Epoch 43/50\n"
     ]
    },
    {
     "name": "stdout",
     "output_type": "stream",
     "text": [
      "\r",
      "\u001b[1m 1/49\u001b[0m \u001b[37m━━━━━━━━━━━━━━━━━━━━\u001b[0m \u001b[1m0s\u001b[0m 10ms/step - loss: 0.6807"
     ]
    },
    {
     "name": "stdout",
     "output_type": "stream",
     "text": [
      "\b\b\b\b\b\b\b\b\b\b\b\b\b\b\b\b\b\b\b\b\b\b\b\b\b\b\b\b\b\b\b\b\b\b\b\b\b\b\b\b\b\b\b\b\b\b\b\b\b\b\b\b\b\b\r",
      "\u001b[1m49/49\u001b[0m \u001b[32m━━━━━━━━━━━━━━━━━━━━\u001b[0m\u001b[37m\u001b[0m \u001b[1m0s\u001b[0m 772us/step - loss: 0.8371\n"
     ]
    },
    {
     "name": "stdout",
     "output_type": "stream",
     "text": [
      "Epoch 44/50\n"
     ]
    },
    {
     "name": "stdout",
     "output_type": "stream",
     "text": [
      "\r",
      "\u001b[1m 1/49\u001b[0m \u001b[37m━━━━━━━━━━━━━━━━━━━━\u001b[0m \u001b[1m0s\u001b[0m 10ms/step - loss: 1.1471"
     ]
    },
    {
     "name": "stdout",
     "output_type": "stream",
     "text": [
      "\b\b\b\b\b\b\b\b\b\b\b\b\b\b\b\b\b\b\b\b\b\b\b\b\b\b\b\b\b\b\b\b\b\b\b\b\b\b\b\b\b\b\b\b\b\b\b\b\b\b\b\b\b\b\r",
      "\u001b[1m49/49\u001b[0m \u001b[32m━━━━━━━━━━━━━━━━━━━━\u001b[0m\u001b[37m\u001b[0m \u001b[1m0s\u001b[0m 772us/step - loss: 0.8966\n"
     ]
    },
    {
     "name": "stdout",
     "output_type": "stream",
     "text": [
      "Epoch 45/50\n"
     ]
    },
    {
     "name": "stdout",
     "output_type": "stream",
     "text": [
      "\r",
      "\u001b[1m 1/49\u001b[0m \u001b[37m━━━━━━━━━━━━━━━━━━━━\u001b[0m \u001b[1m0s\u001b[0m 10ms/step - loss: 0.8653"
     ]
    },
    {
     "name": "stdout",
     "output_type": "stream",
     "text": [
      "\b\b\b\b\b\b\b\b\b\b\b\b\b\b\b\b\b\b\b\b\b\b\b\b\b\b\b\b\b\b\b\b\b\b\b\b\b\b\b\b\b\b\b\b\b\b\b\b\b\b\b\b\b\b\r",
      "\u001b[1m49/49\u001b[0m \u001b[32m━━━━━━━━━━━━━━━━━━━━\u001b[0m\u001b[37m\u001b[0m \u001b[1m0s\u001b[0m 695us/step - loss: 0.8870\n"
     ]
    },
    {
     "name": "stdout",
     "output_type": "stream",
     "text": [
      "Epoch 46/50\n"
     ]
    },
    {
     "name": "stdout",
     "output_type": "stream",
     "text": [
      "\r",
      "\u001b[1m 1/49\u001b[0m \u001b[37m━━━━━━━━━━━━━━━━━━━━\u001b[0m \u001b[1m0s\u001b[0m 10ms/step - loss: 0.7744"
     ]
    },
    {
     "name": "stdout",
     "output_type": "stream",
     "text": [
      "\b\b\b\b\b\b\b\b\b\b\b\b\b\b\b\b\b\b\b\b\b\b\b\b\b\b\b\b\b\b\b\b\b\b\b\b\b\b\b\b\b\b\b\b\b\b\b\b\b\b\b\b\b\b\r",
      "\u001b[1m49/49\u001b[0m \u001b[32m━━━━━━━━━━━━━━━━━━━━\u001b[0m\u001b[37m\u001b[0m \u001b[1m0s\u001b[0m 698us/step - loss: 0.9269\n"
     ]
    },
    {
     "name": "stdout",
     "output_type": "stream",
     "text": [
      "Epoch 47/50\n"
     ]
    },
    {
     "name": "stdout",
     "output_type": "stream",
     "text": [
      "\r",
      "\u001b[1m 1/49\u001b[0m \u001b[37m━━━━━━━━━━━━━━━━━━━━\u001b[0m \u001b[1m0s\u001b[0m 10ms/step - loss: 0.7549"
     ]
    },
    {
     "name": "stdout",
     "output_type": "stream",
     "text": [
      "\b\b\b\b\b\b\b\b\b\b\b\b\b\b\b\b\b\b\b\b\b\b\b\b\b\b\b\b\b\b\b\b\b\b\b\b\b\b\b\b\b\b\b\b\b\b\b\b\b\b\b\b\b\b\r",
      "\u001b[1m49/49\u001b[0m \u001b[32m━━━━━━━━━━━━━━━━━━━━\u001b[0m\u001b[37m\u001b[0m \u001b[1m0s\u001b[0m 718us/step - loss: 0.9005\n"
     ]
    },
    {
     "name": "stdout",
     "output_type": "stream",
     "text": [
      "Epoch 48/50\n"
     ]
    },
    {
     "name": "stdout",
     "output_type": "stream",
     "text": [
      "\r",
      "\u001b[1m 1/49\u001b[0m \u001b[37m━━━━━━━━━━━━━━━━━━━━\u001b[0m \u001b[1m0s\u001b[0m 10ms/step - loss: 0.5999"
     ]
    },
    {
     "name": "stdout",
     "output_type": "stream",
     "text": [
      "\b\b\b\b\b\b\b\b\b\b\b\b\b\b\b\b\b\b\b\b\b\b\b\b\b\b\b\b\b\b\b\b\b\b\b\b\b\b\b\b\b\b\b\b\b\b\b\b\b\b\b\b\b\b\r",
      "\u001b[1m49/49\u001b[0m \u001b[32m━━━━━━━━━━━━━━━━━━━━\u001b[0m\u001b[37m\u001b[0m \u001b[1m0s\u001b[0m 721us/step - loss: 0.8626\n"
     ]
    },
    {
     "name": "stdout",
     "output_type": "stream",
     "text": [
      "Epoch 49/50\n"
     ]
    },
    {
     "name": "stdout",
     "output_type": "stream",
     "text": [
      "\r",
      "\u001b[1m 1/49\u001b[0m \u001b[37m━━━━━━━━━━━━━━━━━━━━\u001b[0m \u001b[1m0s\u001b[0m 10ms/step - loss: 0.6914"
     ]
    },
    {
     "name": "stdout",
     "output_type": "stream",
     "text": [
      "\b\b\b\b\b\b\b\b\b\b\b\b\b\b\b\b\b\b\b\b\b\b\b\b\b\b\b\b\b\b\b\b\b\b\b\b\b\b\b\b\b\b\b\b\b\b\b\b\b\b\b\b\b\b\r",
      "\u001b[1m49/49\u001b[0m \u001b[32m━━━━━━━━━━━━━━━━━━━━\u001b[0m\u001b[37m\u001b[0m \u001b[1m0s\u001b[0m 747us/step - loss: 0.8500\n"
     ]
    },
    {
     "name": "stdout",
     "output_type": "stream",
     "text": [
      "Epoch 50/50\n"
     ]
    },
    {
     "name": "stdout",
     "output_type": "stream",
     "text": [
      "\r",
      "\u001b[1m 1/49\u001b[0m \u001b[37m━━━━━━━━━━━━━━━━━━━━\u001b[0m \u001b[1m0s\u001b[0m 10ms/step - loss: 0.8721"
     ]
    },
    {
     "name": "stdout",
     "output_type": "stream",
     "text": [
      "\b\b\b\b\b\b\b\b\b\b\b\b\b\b\b\b\b\b\b\b\b\b\b\b\b\b\b\b\b\b\b\b\b\b\b\b\b\b\b\b\b\b\b\b\b\b\b\b\b\b\b\b\b\b\r",
      "\u001b[1m49/49\u001b[0m \u001b[32m━━━━━━━━━━━━━━━━━━━━\u001b[0m\u001b[37m\u001b[0m \u001b[1m0s\u001b[0m 744us/step - loss: 0.8983\n"
     ]
    },
    {
     "name": "stdout",
     "output_type": "stream",
     "text": [
      "\r",
      "\u001b[1m 1/49\u001b[0m \u001b[37m━━━━━━━━━━━━━━━━━━━━\u001b[0m \u001b[1m1s\u001b[0m 23ms/step"
     ]
    },
    {
     "name": "stdout",
     "output_type": "stream",
     "text": [
      "\b\b\b\b\b\b\b\b\b\b\b\b\b\b\b\b\b\b\b\b\b\b\b\b\b\b\b\b\b\b\b\b\b\b\b\b\b\b\b\r",
      "\u001b[1m49/49\u001b[0m \u001b[32m━━━━━━━━━━━━━━━━━━━━\u001b[0m\u001b[37m\u001b[0m \u001b[1m0s\u001b[0m 703us/step\n"
     ]
    }
   ],
   "source": [
    "input_dim = returns_scaled.shape[1]\n",
    "macro_dim = macro_scaled.shape[1]\n",
    "latent_dim = 2\n",
    "print(\"Training Conditional VAE...\")\n",
    "encoder, decoder, cvae = build_conditional_vae(\n",
    "    input_dim, macro_dim, intermediate_dim=256, latent_dim=latent_dim\n",
    ")\n",
    "cvae.fit([returns_scaled, macro_scaled], epochs=50, batch_size=32, verbose=1)\n",
    "z_mean_train, _, _ = encoder.predict(returns_scaled)"
   ]
  },
  {
   "cell_type": "markdown",
   "metadata": {},
   "source": [
    "### WGAN-GP"
   ]
  },
  {
   "cell_type": "code",
   "execution_count": 14,
   "metadata": {
    "execution": {
     "iopub.execute_input": "2025-03-02T05:38:52.328800Z",
     "iopub.status.busy": "2025-03-02T05:38:52.328552Z",
     "iopub.status.idle": "2025-03-02T07:43:12.732923Z",
     "shell.execute_reply": "2025-03-02T07:43:12.732461Z"
    }
   },
   "outputs": [
    {
     "name": "stdout",
     "output_type": "stream",
     "text": [
      "Training Conditional WGAN-GP...\n"
     ]
    },
    {
     "name": "stderr",
     "output_type": "stream",
     "text": [
      "2025-03-02 00:38:59.626840: I tensorflow/core/framework/local_rendezvous.cc:405] Local rendezvous is aborting with status: OUT_OF_RANGE: End of sequence\n"
     ]
    },
    {
     "name": "stdout",
     "output_type": "stream",
     "text": [
      "Epoch 1: Critic Loss = 4.0072, Gen Loss = -2.0853\n"
     ]
    },
    {
     "name": "stderr",
     "output_type": "stream",
     "text": [
      "2025-03-02 00:39:07.138598: I tensorflow/core/framework/local_rendezvous.cc:405] Local rendezvous is aborting with status: OUT_OF_RANGE: End of sequence\n"
     ]
    },
    {
     "name": "stderr",
     "output_type": "stream",
     "text": [
      "2025-03-02 00:39:22.551340: I tensorflow/core/framework/local_rendezvous.cc:405] Local rendezvous is aborting with status: OUT_OF_RANGE: End of sequence\n"
     ]
    },
    {
     "name": "stderr",
     "output_type": "stream",
     "text": [
      "2025-03-02 00:39:53.708860: I tensorflow/core/framework/local_rendezvous.cc:405] Local rendezvous is aborting with status: OUT_OF_RANGE: End of sequence\n"
     ]
    },
    {
     "name": "stderr",
     "output_type": "stream",
     "text": [
      "2025-03-02 00:40:53.436617: I tensorflow/core/framework/local_rendezvous.cc:405] Local rendezvous is aborting with status: OUT_OF_RANGE: End of sequence\n"
     ]
    },
    {
     "name": "stderr",
     "output_type": "stream",
     "text": [
      "2025-03-02 00:42:51.387355: I tensorflow/core/framework/local_rendezvous.cc:405] Local rendezvous is aborting with status: OUT_OF_RANGE: End of sequence\n"
     ]
    },
    {
     "name": "stderr",
     "output_type": "stream",
     "text": [
      "2025-03-02 00:46:45.995963: I tensorflow/core/framework/local_rendezvous.cc:405] Local rendezvous is aborting with status: OUT_OF_RANGE: End of sequence\n"
     ]
    },
    {
     "name": "stdout",
     "output_type": "stream",
     "text": [
      "Epoch 100: Critic Loss = -0.0317, Gen Loss = -0.0831\n"
     ]
    },
    {
     "name": "stderr",
     "output_type": "stream",
     "text": [
      "2025-03-02 00:54:56.718893: I tensorflow/core/framework/local_rendezvous.cc:405] Local rendezvous is aborting with status: OUT_OF_RANGE: End of sequence\n"
     ]
    },
    {
     "name": "stdout",
     "output_type": "stream",
     "text": [
      "Epoch 200: Critic Loss = 0.1884, Gen Loss = 0.4451\n"
     ]
    },
    {
     "name": "stderr",
     "output_type": "stream",
     "text": [
      "2025-03-02 01:10:27.569908: I tensorflow/core/framework/local_rendezvous.cc:405] Local rendezvous is aborting with status: OUT_OF_RANGE: End of sequence\n"
     ]
    },
    {
     "name": "stdout",
     "output_type": "stream",
     "text": [
      "Epoch 300: Critic Loss = -0.2063, Gen Loss = -2.1968\n"
     ]
    },
    {
     "name": "stdout",
     "output_type": "stream",
     "text": [
      "Epoch 400: Critic Loss = 0.1017, Gen Loss = -2.2640\n"
     ]
    },
    {
     "name": "stdout",
     "output_type": "stream",
     "text": [
      "Epoch 500: Critic Loss = 0.1469, Gen Loss = 0.0087\n"
     ]
    },
    {
     "name": "stderr",
     "output_type": "stream",
     "text": [
      "2025-03-02 01:42:07.945253: I tensorflow/core/framework/local_rendezvous.cc:405] Local rendezvous is aborting with status: OUT_OF_RANGE: End of sequence\n"
     ]
    },
    {
     "name": "stdout",
     "output_type": "stream",
     "text": [
      "Epoch 600: Critic Loss = -0.2373, Gen Loss = 1.1263\n"
     ]
    },
    {
     "name": "stdout",
     "output_type": "stream",
     "text": [
      "Epoch 700: Critic Loss = 0.2557, Gen Loss = 0.6589\n"
     ]
    },
    {
     "name": "stdout",
     "output_type": "stream",
     "text": [
      "Epoch 800: Critic Loss = -0.1758, Gen Loss = 0.2383\n"
     ]
    },
    {
     "name": "stdout",
     "output_type": "stream",
     "text": [
      "Epoch 900: Critic Loss = -0.3631, Gen Loss = -2.6580\n"
     ]
    },
    {
     "name": "stdout",
     "output_type": "stream",
     "text": [
      "Epoch 1000: Critic Loss = -0.0037, Gen Loss = -4.1766\n"
     ]
    }
   ],
   "source": [
    "noise_dim = 10\n",
    "print(\"Training Conditional WGAN-GP...\")\n",
    "generator = build_conditional_generator(noise_dim, macro_dim, latent_dim)\n",
    "critic = build_conditional_critic(latent_dim, macro_dim)\n",
    "generator = train_conditional_wgan_gp(\n",
    "    generator,\n",
    "    critic,\n",
    "    z_mean_train,\n",
    "    macro_scaled,\n",
    "    noise_dim,\n",
    "    batch_size=32,\n",
    "    epochs=1000,\n",
    "    critic_iterations=5,\n",
    "    lambda_gp=10.0,\n",
    ")"
   ]
  },
  {
   "cell_type": "markdown",
   "metadata": {},
   "source": [
    "### Save Models"
   ]
  },
  {
   "cell_type": "code",
   "execution_count": 15,
   "metadata": {
    "execution": {
     "iopub.execute_input": "2025-03-02T07:43:12.734066Z",
     "iopub.status.busy": "2025-03-02T07:43:12.733825Z",
     "iopub.status.idle": "2025-03-02T07:43:12.780921Z",
     "shell.execute_reply": "2025-03-02T07:43:12.780432Z"
    }
   },
   "outputs": [],
   "source": [
    "encoder.save(\"models/encoder_model.keras\")\n",
    "decoder.save(\"models/decoder_model.keras\")\n",
    "cvae.save(\"models/cvae_model.keras\")\n",
    "generator.save(\"models/generator_model.keras\")\n",
    "critic.save(\"models/critic_model.keras\")"
   ]
  },
  {
   "cell_type": "markdown",
   "metadata": {},
   "source": [
    "### Generate New Synthetic Scenarios"
   ]
  },
  {
   "cell_type": "code",
   "execution_count": 16,
   "metadata": {
    "execution": {
     "iopub.execute_input": "2025-03-02T07:43:12.782714Z",
     "iopub.status.busy": "2025-03-02T07:43:12.782639Z",
     "iopub.status.idle": "2025-03-02T07:43:12.860025Z",
     "shell.execute_reply": "2025-03-02T07:43:12.859682Z"
    }
   },
   "outputs": [
    {
     "name": "stdout",
     "output_type": "stream",
     "text": [
      "\r",
      "\u001b[1m 1/32\u001b[0m \u001b[37m━━━━━━━━━━━━━━━━━━━━\u001b[0m \u001b[1m0s\u001b[0m 20ms/step"
     ]
    },
    {
     "name": "stdout",
     "output_type": "stream",
     "text": [
      "\b\b\b\b\b\b\b\b\b\b\b\b\b\b\b\b\b\b\b\b\b\b\b\b\b\b\b\b\b\b\b\b\b\b\b\b\b\b\b\r",
      "\u001b[1m32/32\u001b[0m \u001b[32m━━━━━━━━━━━━━━━━━━━━\u001b[0m\u001b[37m\u001b[0m \u001b[1m0s\u001b[0m 934us/step\n"
     ]
    }
   ],
   "source": [
    "num_samples_to_generate = 1000\n",
    "idx = np.random.choice(macro_scaled.shape[0], num_samples_to_generate, replace=True)\n",
    "macro_conditions_sample = macro_scaled[idx]\n",
    "macro_conditions_sample = tf.convert_to_tensor(\n",
    "    macro_conditions_sample, dtype=tf.float32\n",
    ")\n",
    "noise = tf.random.normal([num_samples_to_generate, noise_dim])\n",
    "generated_latent = generator([noise, macro_conditions_sample]).numpy()\n",
    "\n",
    "synthetic_returns_scaled = decoder.predict([generated_latent, macro_conditions_sample])\n",
    "synthetic_returns = returns_scaler.inverse_transform(synthetic_returns_scaled)"
   ]
  },
  {
   "cell_type": "markdown",
   "metadata": {},
   "source": [
    "#### Stress Testing"
   ]
  },
  {
   "cell_type": "code",
   "execution_count": 17,
   "metadata": {
    "execution": {
     "iopub.execute_input": "2025-03-02T07:43:12.861256Z",
     "iopub.status.busy": "2025-03-02T07:43:12.861178Z",
     "iopub.status.idle": "2025-03-02T07:43:12.929244Z",
     "shell.execute_reply": "2025-03-02T07:43:12.929023Z"
    }
   },
   "outputs": [],
   "source": [
    "portfolio_weights = np.array([1 / len(tickers)] * len(tickers))\n",
    "extreme_scenarios, var_threshold, es, synthetic_portfolio_returns = (\n",
    "    select_extreme_scenarios(synthetic_returns, portfolio_weights, alpha=5)\n",
    ")\n",
    "historical_portfolio_returns = compute_portfolio_returns(\n",
    "    returns.values, portfolio_weights\n",
    ")\n",
    "emd_distance = wasserstein_distance(\n",
    "    historical_portfolio_returns, synthetic_portfolio_returns\n",
    ")\n",
    "\n",
    "hist_real, bin_edges = np.histogram(returns.values[:, 0], bins=50, density=True)\n",
    "hist_syn, _ = np.histogram(synthetic_returns[:, 0], bins=bin_edges, density=True)\n",
    "js_div = jensen_shannon_divergence(hist_real + 1e-8, hist_syn + 1e-8)\n",
    "ks_stat, ks_pvalue = ks_2samp(returns.values[:, 0], synthetic_returns[:, 0])\n",
    "\n",
    "\n",
    "def autocorr(x, lag=1):\n",
    "    return np.corrcoef(x[:-lag], x[lag:])[0, 1]\n",
    "\n",
    "\n",
    "autocorr_real = np.mean(\n",
    "    [autocorr(returns.values[:, i]) for i in range(returns.values.shape[1])]\n",
    ")\n",
    "autocorr_syn = np.mean(\n",
    "    [autocorr(synthetic_returns[:, i]) for i in range(synthetic_returns.shape[1])]\n",
    ")\n",
    "\n",
    "extreme_indices_cluster, clusters, cluster_centers = cluster_extreme_latent(\n",
    "    generated_latent, n_clusters=3\n",
    ")"
   ]
  },
  {
   "cell_type": "markdown",
   "metadata": {},
   "source": [
    "#### Stress Testing Results"
   ]
  },
  {
   "cell_type": "code",
   "execution_count": 18,
   "metadata": {
    "execution": {
     "iopub.execute_input": "2025-03-02T07:43:12.930138Z",
     "iopub.status.busy": "2025-03-02T07:43:12.929996Z",
     "iopub.status.idle": "2025-03-02T07:43:12.932260Z",
     "shell.execute_reply": "2025-03-02T07:43:12.932055Z"
    }
   },
   "outputs": [
    {
     "name": "stdout",
     "output_type": "stream",
     "text": [
      "--- Stress Testing Results ---\n",
      "VaR (5th percentile): -0.0094\n",
      "Expected Shortfall: -0.0218\n",
      "Number of extreme scenarios (VaR): 50\n",
      "Earth Mover's Distance: 0.0070\n",
      "Jensen-Shannon Divergence (asset 1): 0.2148\n",
      "KS-test statistic (asset 1): 0.3698, p-value: 0.0000\n",
      "Mean autocorrelation lag-1: real = -0.0546, synthetic = -0.0198\n",
      "Number of scenarios in extreme cluster (K-Means): 102\n"
     ]
    }
   ],
   "source": [
    "print(\"--- Stress Testing Results ---\")\n",
    "print(f\"VaR (5th percentile): {var_threshold:.4f}\")\n",
    "print(f\"Expected Shortfall: {es:.4f}\")\n",
    "print(f\"Number of extreme scenarios (VaR): {extreme_scenarios.shape[0]}\")\n",
    "print(f\"Earth Mover's Distance: {emd_distance:.4f}\")\n",
    "print(f\"Jensen-Shannon Divergence (asset 1): {js_div:.4f}\")\n",
    "print(f\"KS-test statistic (asset 1): {ks_stat:.4f}, p-value: {ks_pvalue:.4f}\")\n",
    "print(f\"Mean autocorrelation lag-1: real = {autocorr_real:.4f}, synthetic = {autocorr_syn:.4f}\")\n",
    "print(f\"Number of scenarios in extreme cluster (K-Means): {len(extreme_indices_cluster)}\")"
   ]
  },
  {
   "cell_type": "markdown",
   "metadata": {},
   "source": [
    "## Visualization"
   ]
  },
  {
   "cell_type": "markdown",
   "metadata": {},
   "source": [
    "### Histogram of Synthetic Portfolio Returns"
   ]
  },
  {
   "cell_type": "markdown",
   "metadata": {},
   "source": [
    "- This graph helps compare the distribution of real and synthetic portfolio returns\n",
    "- It highlights the Value at Risk (VaR) threshold, showing the probability of extreme losses"
   ]
  },
  {
   "cell_type": "code",
   "execution_count": 19,
   "metadata": {
    "execution": {
     "iopub.execute_input": "2025-03-02T07:43:12.932971Z",
     "iopub.status.busy": "2025-03-02T07:43:12.932891Z",
     "iopub.status.idle": "2025-03-02T07:43:13.011568Z",
     "shell.execute_reply": "2025-03-02T07:43:13.011385Z"
    }
   },
   "outputs": [
    {
     "data": {
      "image/png": "[encoded data removed]",
      "text/plain": [
       "<Figure size 1000x600 with 1 Axes>"
      ]
     },
     "metadata": {},
     "output_type": "display_data"
    }
   ],
   "source": [
    "plt.figure(figsize=(10, 6))\n",
    "plt.hist(synthetic_portfolio_returns, bins=50, alpha=0.7, edgecolor=\"black\")\n",
    "plt.axvline(\n",
    "    var_threshold, color=\"r\", linestyle=\"--\", label=f\"VaR (5%): {var_threshold:.4f}\"\n",
    ")\n",
    "plt.xlabel(\"Portfolio Return\")\n",
    "plt.ylabel(\"Frequency\")\n",
    "plt.title(\"Distribution of Synthetic Portfolio Returns\")\n",
    "plt.legend()\n",
    "plt.show()"
   ]
  },
  {
   "cell_type": "markdown",
   "metadata": {},
   "source": [
    "### Heatmap of Extreme Scenarios (VaR)"
   ]
  },
  {
   "cell_type": "markdown",
   "metadata": {},
   "source": [
    "- This visualization identifies which assets are most impacted in extreme market conditions\n",
    "- It helps understand how different stocks contribute to high-risk scenarios"
   ]
  },
  {
   "cell_type": "code",
   "execution_count": 20,
   "metadata": {
    "execution": {
     "iopub.execute_input": "2025-03-02T07:43:13.012466Z",
     "iopub.status.busy": "2025-03-02T07:43:13.012317Z",
     "iopub.status.idle": "2025-03-02T07:43:13.178418Z",
     "shell.execute_reply": "2025-03-02T07:43:13.178187Z"
    }
   },
   "outputs": [
    {
     "data": {
      "image/png": "[encoded data removed]",
      "text/plain": [
       "<Figure size 3500x600 with 2 Axes>"
      ]
     },
     "metadata": {},
     "output_type": "display_data"
    }
   ],
   "source": [
    "plt.figure(figsize=(35, 6))\n",
    "plt.imshow(extreme_scenarios, aspect=\"auto\", cmap=\"viridis\")\n",
    "plt.colorbar(label=\"Return\")\n",
    "plt.xticks(ticks=np.arange(len(tickers)), labels=tickers)\n",
    "plt.xlabel(\"Asset\")\n",
    "plt.ylabel(\"Extreme Scenario (index)\")\n",
    "plt.title(\"Heatmap of Extreme Scenarios (VaR)\")\n",
    "plt.show()"
   ]
  },
  {
   "cell_type": "markdown",
   "metadata": {},
   "source": [
    "### Scatter Plot of Latent Space with Clusters"
   ]
  },
  {
   "cell_type": "markdown",
   "metadata": {},
   "source": [
    "- This plot represents different generated market scenarios in a latent space\n",
    "- It clusters normal, moderate, and extreme financial conditions, helping to identify outliers associated with potential market crashes"
   ]
  },
  {
   "cell_type": "code",
   "execution_count": 21,
   "metadata": {
    "execution": {
     "iopub.execute_input": "2025-03-02T07:43:13.179233Z",
     "iopub.status.busy": "2025-03-02T07:43:13.179156Z",
     "iopub.status.idle": "2025-03-02T07:43:13.255753Z",
     "shell.execute_reply": "2025-03-02T07:43:13.255530Z"
    }
   },
   "outputs": [
    {
     "data": {
      "image/png": "[encoded data removed]",
      "text/plain": [
       "<Figure size 800x600 with 1 Axes>"
      ]
     },
     "metadata": {},
     "output_type": "display_data"
    }
   ],
   "source": [
    "plt.figure(figsize=(8, 6))\n",
    "\n",
    "colors = [\"blue\", \"green\", \"orange\"]\n",
    "cluster_colors = [colors[c] for c in clusters]\n",
    "for i, color in enumerate(colors):\n",
    "    plt.scatter(\n",
    "        generated_latent[clusters == i, 0],\n",
    "        generated_latent[clusters == i, 1],\n",
    "        c=color,\n",
    "        alpha=0.6,\n",
    "        label=f\"Cluster {i+1}\",\n",
    "    )\n",
    "plt.scatter(\n",
    "    cluster_centers[:, 0],\n",
    "    cluster_centers[:, 1],\n",
    "    c=\"red\",\n",
    "    marker=\"x\",\n",
    "    label=\"Cluster Centers\",\n",
    ")\n",
    "plt.xlabel(\"Latent 1\")\n",
    "plt.ylabel(\"Latent 2\")\n",
    "plt.title(\"Clustering of Synthetic Scenarios in Latent Space\")\n",
    "plt.legend()\n",
    "plt.show()"
   ]
  },
  {
   "cell_type": "code",
   "execution_count": null,
   "metadata": {},
   "outputs": [],
   "source": []
  }
 ],
 "metadata": {
  "kernelspec": {
   "display_name": "tf",
   "language": "python",
   "name": "python3"
  },
  "language_info": {
   "codemirror_mode": {
    "name": "ipython",
    "version": 3
   },
   "file_extension": ".py",
   "mimetype": "text/x-python",
   "name": "python",
   "nbconvert_exporter": "python",
   "pygments_lexer": "ipython3",
   "version": "3.12.3"
  }
 },
 "nbformat": 4,
 "nbformat_minor": 2
}
