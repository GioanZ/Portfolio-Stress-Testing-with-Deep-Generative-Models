{
 "cells": [
  {
   "cell_type": "markdown",
   "metadata": {},
   "source": [
    "## Imports"
   ]
  },
  {
   "cell_type": "code",
   "execution_count": 1,
   "metadata": {},
   "outputs": [
    {
     "name": "stderr",
     "output_type": "stream",
     "text": [
      "2025-03-01 15:07:06.817003: I tensorflow/core/util/port.cc:153] oneDNN custom operations are on. You may see slightly different numerical results due to floating-point round-off errors from different computation orders. To turn them off, set the environment variable `TF_ENABLE_ONEDNN_OPTS=0`.\n",
      "2025-03-01 15:07:06.827358: E external/local_xla/xla/stream_executor/cuda/cuda_fft.cc:477] Unable to register cuFFT factory: Attempting to register factory for plugin cuFFT when one has already been registered\n",
      "WARNING: All log messages before absl::InitializeLog() is called are written to STDERR\n",
      "E0000 00:00:1740859626.837136  325969 cuda_dnn.cc:8310] Unable to register cuDNN factory: Attempting to register factory for plugin cuDNN when one has already been registered\n",
      "E0000 00:00:1740859626.840027  325969 cuda_blas.cc:1418] Unable to register cuBLAS factory: Attempting to register factory for plugin cuBLAS when one has already been registered\n",
      "2025-03-01 15:07:06.851368: I tensorflow/core/platform/cpu_feature_guard.cc:210] This TensorFlow binary is optimized to use available CPU instructions in performance-critical operations.\n",
      "To enable the following instructions: AVX2 AVX512F AVX512_VNNI AVX512_BF16 FMA, in other operations, rebuild TensorFlow with the appropriate compiler flags.\n"
     ]
    }
   ],
   "source": [
    "import numpy as np\n",
    "import pandas as pd\n",
    "import matplotlib.pyplot as plt\n",
    "import yfinance as yf\n",
    "from fredapi import Fred\n",
    "import tensorflow as tf\n",
    "from tensorflow.keras import layers, Model, backend as K\n",
    "from tensorflow.keras.losses import mse\n",
    "from sklearn.preprocessing import StandardScaler\n",
    "from scipy.stats import wasserstein_distance, ks_2samp, entropy\n",
    "from sklearn.cluster import KMeans"
   ]
  },
  {
   "cell_type": "markdown",
   "metadata": {},
   "source": [
    "## Data"
   ]
  },
  {
   "cell_type": "markdown",
   "metadata": {},
   "source": [
    "### Parameters"
   ]
  },
  {
   "cell_type": "code",
   "execution_count": null,
   "metadata": {},
   "outputs": [],
   "source": [
    "tickers = [\n",
    "    \"AAPL\",\n",
    "    \"BAC\",\n",
    "    \"KO\",\n",
    "    \"AXP\",\n",
    "    \"WFC\",\n",
    "    \"KHC\",\n",
    "    \"JPM\",\n",
    "    \"USB\",\n",
    "    \"MCO\",\n",
    "    \"DAL\",\n",
    "    \"BK\",\n",
    "    \"LUV\",\n",
    "    \"DVA\",\n",
    "    \"GS\",\n",
    "    \"GM\",\n",
    "    \"CHTR\",\n",
    "    \"VRSN\",\n",
    "    \"V\",\n",
    "    \"UAL\",\n",
    "    \"MA\",\n",
    "    \"PNC\",\n",
    "    \"COST\",\n",
    "    \"AAL\",\n",
    "    \"AMZN\",\n",
    "    \"SIRI\",\n",
    "    \"MTB\",\n",
    "    \"OXY\",\n",
    "    \"SYF\",\n",
    "    \"AXTA\",\n",
    "    \"GL\",\n",
    "    \"STNE\",\n",
    "    \"KR\",\n",
    "    \"QSR\",\n",
    "    \"SU\",\n",
    "    \"LBTYA\",\n",
    "    \"TEVA\",\n",
    "    \"RH\",\n",
    "    \"BIIB\",\n",
    "    \"LBTYK\",\n",
    "    \"LILA\",\n",
    "    \"JNJ\",\n",
    "    \"TRV\",\n",
    "    \"PG\",\n",
    "    \"MDLZ\",\n",
    "    \"PSX\",\n",
    "    \"LILAK\",\n",
    "    \"VOO\",\n",
    "    \"SPY\",\n",
    "    \"UPS\",\n",
    "]\n",
    "\n",
    "start_date = \"2000-01-01\"\n",
    "end_date = \"2021-01-01\""
   ]
  },
  {
   "cell_type": "markdown",
   "metadata": {},
   "source": [
    "### Download Market Data"
   ]
  },
  {
   "cell_type": "code",
   "execution_count": 3,
   "metadata": {},
   "outputs": [
    {
     "name": "stdout",
     "output_type": "stream",
     "text": [
      "YF.download() has changed argument auto_adjust default to True\n"
     ]
    },
    {
     "data": {
      "text/html": [
       "<div>\n",
       "<style scoped>\n",
       "    .dataframe tbody tr th:only-of-type {\n",
       "        vertical-align: middle;\n",
       "    }\n",
       "\n",
       "    .dataframe tbody tr th {\n",
       "        vertical-align: top;\n",
       "    }\n",
       "\n",
       "    .dataframe thead tr th {\n",
       "        text-align: left;\n",
       "    }\n",
       "\n",
       "    .dataframe thead tr:last-of-type th {\n",
       "        text-align: right;\n",
       "    }\n",
       "</style>\n",
       "<table border=\"1\" class=\"dataframe\">\n",
       "  <thead>\n",
       "    <tr>\n",
       "      <th>Price</th>\n",
       "      <th colspan=\"10\" halign=\"left\">Close</th>\n",
       "      <th>...</th>\n",
       "      <th colspan=\"10\" halign=\"left\">Volume</th>\n",
       "    </tr>\n",
       "    <tr>\n",
       "      <th>Ticker</th>\n",
       "      <th>AAL</th>\n",
       "      <th>AAPL</th>\n",
       "      <th>AMZN</th>\n",
       "      <th>AXP</th>\n",
       "      <th>AXTA</th>\n",
       "      <th>BAC</th>\n",
       "      <th>BIIB</th>\n",
       "      <th>BK</th>\n",
       "      <th>CHTR</th>\n",
       "      <th>COST</th>\n",
       "      <th>...</th>\n",
       "      <th>SYF</th>\n",
       "      <th>TEVA</th>\n",
       "      <th>TRV</th>\n",
       "      <th>UAL</th>\n",
       "      <th>UPS</th>\n",
       "      <th>USB</th>\n",
       "      <th>V</th>\n",
       "      <th>VOO</th>\n",
       "      <th>VRSN</th>\n",
       "      <th>WFC</th>\n",
       "    </tr>\n",
       "    <tr>\n",
       "      <th>Date</th>\n",
       "      <th></th>\n",
       "      <th></th>\n",
       "      <th></th>\n",
       "      <th></th>\n",
       "      <th></th>\n",
       "      <th></th>\n",
       "      <th></th>\n",
       "      <th></th>\n",
       "      <th></th>\n",
       "      <th></th>\n",
       "      <th></th>\n",
       "      <th></th>\n",
       "      <th></th>\n",
       "      <th></th>\n",
       "      <th></th>\n",
       "      <th></th>\n",
       "      <th></th>\n",
       "      <th></th>\n",
       "      <th></th>\n",
       "      <th></th>\n",
       "      <th></th>\n",
       "    </tr>\n",
       "  </thead>\n",
       "  <tbody>\n",
       "    <tr>\n",
       "      <th>2000-01-03</th>\n",
       "      <td>NaN</td>\n",
       "      <td>0.842150</td>\n",
       "      <td>4.468750</td>\n",
       "      <td>32.595181</td>\n",
       "      <td>NaN</td>\n",
       "      <td>12.714028</td>\n",
       "      <td>31.083332</td>\n",
       "      <td>21.912382</td>\n",
       "      <td>NaN</td>\n",
       "      <td>29.851645</td>\n",
       "      <td>...</td>\n",
       "      <td>NaN</td>\n",
       "      <td>3145600</td>\n",
       "      <td>336400</td>\n",
       "      <td>NaN</td>\n",
       "      <td>1273200</td>\n",
       "      <td>2354200</td>\n",
       "      <td>NaN</td>\n",
       "      <td>NaN</td>\n",
       "      <td>2270100</td>\n",
       "      <td>9037000</td>\n",
       "    </tr>\n",
       "    <tr>\n",
       "      <th>2000-01-04</th>\n",
       "      <td>NaN</td>\n",
       "      <td>0.771149</td>\n",
       "      <td>4.096875</td>\n",
       "      <td>31.364424</td>\n",
       "      <td>NaN</td>\n",
       "      <td>11.959387</td>\n",
       "      <td>28.979168</td>\n",
       "      <td>21.283140</td>\n",
       "      <td>NaN</td>\n",
       "      <td>28.216515</td>\n",
       "      <td>...</td>\n",
       "      <td>NaN</td>\n",
       "      <td>4314400</td>\n",
       "      <td>494400</td>\n",
       "      <td>NaN</td>\n",
       "      <td>1385800</td>\n",
       "      <td>3687700</td>\n",
       "      <td>NaN</td>\n",
       "      <td>NaN</td>\n",
       "      <td>3002200</td>\n",
       "      <td>15237200</td>\n",
       "    </tr>\n",
       "    <tr>\n",
       "      <th>2000-01-05</th>\n",
       "      <td>NaN</td>\n",
       "      <td>0.782433</td>\n",
       "      <td>3.487500</td>\n",
       "      <td>30.567801</td>\n",
       "      <td>NaN</td>\n",
       "      <td>12.090631</td>\n",
       "      <td>31.000000</td>\n",
       "      <td>20.801954</td>\n",
       "      <td>NaN</td>\n",
       "      <td>28.698664</td>\n",
       "      <td>...</td>\n",
       "      <td>NaN</td>\n",
       "      <td>3379200</td>\n",
       "      <td>736000</td>\n",
       "      <td>NaN</td>\n",
       "      <td>1401700</td>\n",
       "      <td>2704200</td>\n",
       "      <td>NaN</td>\n",
       "      <td>NaN</td>\n",
       "      <td>6886600</td>\n",
       "      <td>8228200</td>\n",
       "    </tr>\n",
       "    <tr>\n",
       "      <th>2000-01-06</th>\n",
       "      <td>NaN</td>\n",
       "      <td>0.714723</td>\n",
       "      <td>3.278125</td>\n",
       "      <td>31.190565</td>\n",
       "      <td>NaN</td>\n",
       "      <td>13.124156</td>\n",
       "      <td>32.375000</td>\n",
       "      <td>21.320154</td>\n",
       "      <td>NaN</td>\n",
       "      <td>29.275158</td>\n",
       "      <td>...</td>\n",
       "      <td>NaN</td>\n",
       "      <td>2148000</td>\n",
       "      <td>660400</td>\n",
       "      <td>NaN</td>\n",
       "      <td>1959100</td>\n",
       "      <td>4185300</td>\n",
       "      <td>NaN</td>\n",
       "      <td>NaN</td>\n",
       "      <td>4003200</td>\n",
       "      <td>8326800</td>\n",
       "    </tr>\n",
       "    <tr>\n",
       "      <th>2000-01-07</th>\n",
       "      <td>NaN</td>\n",
       "      <td>0.748579</td>\n",
       "      <td>3.478125</td>\n",
       "      <td>31.644669</td>\n",
       "      <td>NaN</td>\n",
       "      <td>12.779648</td>\n",
       "      <td>36.104168</td>\n",
       "      <td>22.430569</td>\n",
       "      <td>NaN</td>\n",
       "      <td>31.214270</td>\n",
       "      <td>...</td>\n",
       "      <td>NaN</td>\n",
       "      <td>10913600</td>\n",
       "      <td>594700</td>\n",
       "      <td>NaN</td>\n",
       "      <td>996000</td>\n",
       "      <td>4486700</td>\n",
       "      <td>NaN</td>\n",
       "      <td>NaN</td>\n",
       "      <td>3803200</td>\n",
       "      <td>7711200</td>\n",
       "    </tr>\n",
       "    <tr>\n",
       "      <th>...</th>\n",
       "      <td>...</td>\n",
       "      <td>...</td>\n",
       "      <td>...</td>\n",
       "      <td>...</td>\n",
       "      <td>...</td>\n",
       "      <td>...</td>\n",
       "      <td>...</td>\n",
       "      <td>...</td>\n",
       "      <td>...</td>\n",
       "      <td>...</td>\n",
       "      <td>...</td>\n",
       "      <td>...</td>\n",
       "      <td>...</td>\n",
       "      <td>...</td>\n",
       "      <td>...</td>\n",
       "      <td>...</td>\n",
       "      <td>...</td>\n",
       "      <td>...</td>\n",
       "      <td>...</td>\n",
       "      <td>...</td>\n",
       "      <td>...</td>\n",
       "    </tr>\n",
       "    <tr>\n",
       "      <th>2020-12-24</th>\n",
       "      <td>15.660000</td>\n",
       "      <td>128.905792</td>\n",
       "      <td>158.634506</td>\n",
       "      <td>111.246834</td>\n",
       "      <td>28.760000</td>\n",
       "      <td>27.166571</td>\n",
       "      <td>248.889999</td>\n",
       "      <td>36.113945</td>\n",
       "      <td>656.489990</td>\n",
       "      <td>346.373840</td>\n",
       "      <td>...</td>\n",
       "      <td>844400.0</td>\n",
       "      <td>3108700</td>\n",
       "      <td>416800</td>\n",
       "      <td>7230600.0</td>\n",
       "      <td>1006100</td>\n",
       "      <td>1980900</td>\n",
       "      <td>3367900.0</td>\n",
       "      <td>1447500.0</td>\n",
       "      <td>139900</td>\n",
       "      <td>14443700</td>\n",
       "    </tr>\n",
       "    <tr>\n",
       "      <th>2020-12-28</th>\n",
       "      <td>16.059999</td>\n",
       "      <td>133.516220</td>\n",
       "      <td>164.197998</td>\n",
       "      <td>112.204285</td>\n",
       "      <td>28.379999</td>\n",
       "      <td>27.320719</td>\n",
       "      <td>244.149994</td>\n",
       "      <td>36.465942</td>\n",
       "      <td>651.900024</td>\n",
       "      <td>352.530334</td>\n",
       "      <td>...</td>\n",
       "      <td>1903000.0</td>\n",
       "      <td>7786000</td>\n",
       "      <td>1100300</td>\n",
       "      <td>13693200.0</td>\n",
       "      <td>1861700</td>\n",
       "      <td>4330800</td>\n",
       "      <td>5816200.0</td>\n",
       "      <td>2798800.0</td>\n",
       "      <td>296500</td>\n",
       "      <td>21658500</td>\n",
       "    </tr>\n",
       "    <tr>\n",
       "      <th>2020-12-29</th>\n",
       "      <td>15.860000</td>\n",
       "      <td>131.738464</td>\n",
       "      <td>166.100006</td>\n",
       "      <td>111.995720</td>\n",
       "      <td>28.280001</td>\n",
       "      <td>27.211908</td>\n",
       "      <td>243.460007</td>\n",
       "      <td>36.465942</td>\n",
       "      <td>664.979980</td>\n",
       "      <td>354.107361</td>\n",
       "      <td>...</td>\n",
       "      <td>2217000.0</td>\n",
       "      <td>6494700</td>\n",
       "      <td>859000</td>\n",
       "      <td>9927700.0</td>\n",
       "      <td>2864600</td>\n",
       "      <td>4083400</td>\n",
       "      <td>6093400.0</td>\n",
       "      <td>2555500.0</td>\n",
       "      <td>287100</td>\n",
       "      <td>19584400</td>\n",
       "    </tr>\n",
       "    <tr>\n",
       "      <th>2020-12-30</th>\n",
       "      <td>16.150000</td>\n",
       "      <td>130.615158</td>\n",
       "      <td>164.292496</td>\n",
       "      <td>113.218658</td>\n",
       "      <td>28.559999</td>\n",
       "      <td>27.184708</td>\n",
       "      <td>243.580002</td>\n",
       "      <td>36.685928</td>\n",
       "      <td>653.489990</td>\n",
       "      <td>355.751038</td>\n",
       "      <td>...</td>\n",
       "      <td>2617500.0</td>\n",
       "      <td>5919500</td>\n",
       "      <td>1253800</td>\n",
       "      <td>9473300.0</td>\n",
       "      <td>3107100</td>\n",
       "      <td>3157400</td>\n",
       "      <td>8875100.0</td>\n",
       "      <td>2009100.0</td>\n",
       "      <td>248500</td>\n",
       "      <td>18519300</td>\n",
       "    </tr>\n",
       "    <tr>\n",
       "      <th>2020-12-31</th>\n",
       "      <td>15.770000</td>\n",
       "      <td>129.609100</td>\n",
       "      <td>162.846497</td>\n",
       "      <td>114.621658</td>\n",
       "      <td>28.549999</td>\n",
       "      <td>27.483936</td>\n",
       "      <td>244.860001</td>\n",
       "      <td>37.345909</td>\n",
       "      <td>661.549988</td>\n",
       "      <td>357.964661</td>\n",
       "      <td>...</td>\n",
       "      <td>2331600.0</td>\n",
       "      <td>8103700</td>\n",
       "      <td>970200</td>\n",
       "      <td>12684000.0</td>\n",
       "      <td>2349400</td>\n",
       "      <td>3778500</td>\n",
       "      <td>5922200.0</td>\n",
       "      <td>3507000.0</td>\n",
       "      <td>311100</td>\n",
       "      <td>21081200</td>\n",
       "    </tr>\n",
       "  </tbody>\n",
       "</table>\n",
       "<p>5284 rows × 245 columns</p>\n",
       "</div>"
      ],
      "text/plain": [
       "Price           Close                                                 \\\n",
       "Ticker            AAL        AAPL        AMZN         AXP       AXTA   \n",
       "Date                                                                   \n",
       "2000-01-03        NaN    0.842150    4.468750   32.595181        NaN   \n",
       "2000-01-04        NaN    0.771149    4.096875   31.364424        NaN   \n",
       "2000-01-05        NaN    0.782433    3.487500   30.567801        NaN   \n",
       "2000-01-06        NaN    0.714723    3.278125   31.190565        NaN   \n",
       "2000-01-07        NaN    0.748579    3.478125   31.644669        NaN   \n",
       "...               ...         ...         ...         ...        ...   \n",
       "2020-12-24  15.660000  128.905792  158.634506  111.246834  28.760000   \n",
       "2020-12-28  16.059999  133.516220  164.197998  112.204285  28.379999   \n",
       "2020-12-29  15.860000  131.738464  166.100006  111.995720  28.280001   \n",
       "2020-12-30  16.150000  130.615158  164.292496  113.218658  28.559999   \n",
       "2020-12-31  15.770000  129.609100  162.846497  114.621658  28.549999   \n",
       "\n",
       "Price                                                                 ...  \\\n",
       "Ticker            BAC        BIIB         BK        CHTR        COST  ...   \n",
       "Date                                                                  ...   \n",
       "2000-01-03  12.714028   31.083332  21.912382         NaN   29.851645  ...   \n",
       "2000-01-04  11.959387   28.979168  21.283140         NaN   28.216515  ...   \n",
       "2000-01-05  12.090631   31.000000  20.801954         NaN   28.698664  ...   \n",
       "2000-01-06  13.124156   32.375000  21.320154         NaN   29.275158  ...   \n",
       "2000-01-07  12.779648   36.104168  22.430569         NaN   31.214270  ...   \n",
       "...               ...         ...        ...         ...         ...  ...   \n",
       "2020-12-24  27.166571  248.889999  36.113945  656.489990  346.373840  ...   \n",
       "2020-12-28  27.320719  244.149994  36.465942  651.900024  352.530334  ...   \n",
       "2020-12-29  27.211908  243.460007  36.465942  664.979980  354.107361  ...   \n",
       "2020-12-30  27.184708  243.580002  36.685928  653.489990  355.751038  ...   \n",
       "2020-12-31  27.483936  244.860001  37.345909  661.549988  357.964661  ...   \n",
       "\n",
       "Price          Volume                                                   \\\n",
       "Ticker            SYF      TEVA      TRV         UAL      UPS      USB   \n",
       "Date                                                                     \n",
       "2000-01-03        NaN   3145600   336400         NaN  1273200  2354200   \n",
       "2000-01-04        NaN   4314400   494400         NaN  1385800  3687700   \n",
       "2000-01-05        NaN   3379200   736000         NaN  1401700  2704200   \n",
       "2000-01-06        NaN   2148000   660400         NaN  1959100  4185300   \n",
       "2000-01-07        NaN  10913600   594700         NaN   996000  4486700   \n",
       "...               ...       ...      ...         ...      ...      ...   \n",
       "2020-12-24   844400.0   3108700   416800   7230600.0  1006100  1980900   \n",
       "2020-12-28  1903000.0   7786000  1100300  13693200.0  1861700  4330800   \n",
       "2020-12-29  2217000.0   6494700   859000   9927700.0  2864600  4083400   \n",
       "2020-12-30  2617500.0   5919500  1253800   9473300.0  3107100  3157400   \n",
       "2020-12-31  2331600.0   8103700   970200  12684000.0  2349400  3778500   \n",
       "\n",
       "Price                                                \n",
       "Ticker              V        VOO     VRSN       WFC  \n",
       "Date                                                 \n",
       "2000-01-03        NaN        NaN  2270100   9037000  \n",
       "2000-01-04        NaN        NaN  3002200  15237200  \n",
       "2000-01-05        NaN        NaN  6886600   8228200  \n",
       "2000-01-06        NaN        NaN  4003200   8326800  \n",
       "2000-01-07        NaN        NaN  3803200   7711200  \n",
       "...               ...        ...      ...       ...  \n",
       "2020-12-24  3367900.0  1447500.0   139900  14443700  \n",
       "2020-12-28  5816200.0  2798800.0   296500  21658500  \n",
       "2020-12-29  6093400.0  2555500.0   287100  19584400  \n",
       "2020-12-30  8875100.0  2009100.0   248500  18519300  \n",
       "2020-12-31  5922200.0  3507000.0   311100  21081200  \n",
       "\n",
       "[5284 rows x 245 columns]"
      ]
     },
     "execution_count": 3,
     "metadata": {},
     "output_type": "execute_result"
    }
   ],
   "source": [
    "data = yf.download(tickers, start=start_date, end=end_date, progress=False)\n",
    "data"
   ]
  },
  {
   "cell_type": "code",
   "execution_count": 4,
   "metadata": {},
   "outputs": [],
   "source": [
    "data = data[\"Close\"].dropna()\n",
    "\n",
    "returns = np.log(data / data.shift(1)).dropna()\n",
    "\n",
    "returns_scaler = StandardScaler()\n",
    "returns_scaled = returns.copy()\n",
    "returns_scaled.iloc[:] = returns_scaler.fit_transform(returns_scaled)"
   ]
  },
  {
   "cell_type": "markdown",
   "metadata": {},
   "source": [
    "### Download and Prepare Macroeconomic Indicators"
   ]
  },
  {
   "cell_type": "code",
   "execution_count": null,
   "metadata": {},
   "outputs": [],
   "source": [
    "with open(\"key_fred.txt\", \"r\") as file:\n",
    "    key_fred = file.read().strip()\n",
    "\n",
    "fred = Fred(api_key=key_fred)\n",
    "\n",
    "inflation = fred.get_series(\"CPIAUCSL\")\n",
    "fed_funds = fred.get_series(\"FEDFUNDS\")\n",
    "unemployment = fred.get_series(\"UNRATE\")\n",
    "short_term = fred.get_series(\"DGS3MO\")\n",
    "long_term = fred.get_series(\"DGS10\")"
   ]
  },
  {
   "cell_type": "code",
   "execution_count": null,
   "metadata": {},
   "outputs": [],
   "source": [
    "macro_df = pd.concat(\n",
    "    [inflation, fed_funds, unemployment, short_term, long_term], axis=1\n",
    ")\n",
    "macro_df.ffill(inplace=True)\n",
    "macro_df = macro_df.loc[start_date:end_date]\n",
    "macro_df.columns = [\"inflation\", \"fed_funds\", \"unemployment\", \"short_term\", \"long_term\"]\n",
    "\n",
    "vix_df = yf.download(\"^VIX\", start=start_date, end=end_date, progress=False)\n",
    "\n",
    "vix_column = \"Adj Close\" if \"Adj Close\" in vix_df.columns else \"Close\"\n",
    "\n",
    "if isinstance(vix_df.columns, pd.MultiIndex):\n",
    "    vix_data = vix_df[(\"Close\", \"^VIX\")].rename(\"vix\")\n",
    "else:\n",
    "    vix_data = vix_df[\"Close\"].rename(\"vix\")\n",
    "\n",
    "macro_df = pd.concat([macro_df, vix_data], axis=1)\n",
    "macro_df = macro_df.reindex(returns.index).ffill()\n",
    "\n",
    "macro_scaler = StandardScaler()\n",
    "macro_scaled = macro_scaler.fit_transform(macro_df)"
   ]
  },
  {
   "cell_type": "markdown",
   "metadata": {},
   "source": [
    "## Define custom layers: Sampling, Reconstruction Loss, KL Divergence"
   ]
  },
  {
   "cell_type": "code",
   "execution_count": null,
   "metadata": {},
   "outputs": [],
   "source": [
    "class SamplingLayer(layers.Layer):\n",
    "    def call(self, inputs):\n",
    "        z_mean, z_log_var = inputs\n",
    "        epsilon = tf.random.normal(shape=tf.shape(z_mean))\n",
    "        return z_mean + tf.exp(0.5 * z_log_var) * epsilon\n",
    "\n",
    "\n",
    "class ReconstructionLossLayer(layers.Layer):\n",
    "    def call(self, inputs):\n",
    "        x, x_pred = inputs\n",
    "        loss = K.mean(mse(x, x_pred))\n",
    "        self.add_loss(loss)\n",
    "        return x_pred\n",
    "\n",
    "\n",
    "class KLDivergenceLayer(layers.Layer):\n",
    "    def call(self, inputs):\n",
    "        z_mean, z_log_var = inputs\n",
    "        kl_loss = -0.5 * tf.reduce_sum(\n",
    "            1 + z_log_var - tf.square(z_mean) - tf.exp(z_log_var), axis=-1\n",
    "        )\n",
    "        self.add_loss(tf.reduce_mean(kl_loss))\n",
    "        return z_mean"
   ]
  },
  {
   "cell_type": "markdown",
   "metadata": {},
   "source": [
    "## Conditional VAE: Unconditioned Encoder, Conditioned Decoder with Dropout"
   ]
  },
  {
   "cell_type": "code",
   "execution_count": null,
   "metadata": {},
   "outputs": [],
   "source": [
    "def build_conditional_vae(input_dim, macro_dim, intermediate_dim=256, latent_dim=2):\n",
    "    x_input = layers.Input(shape=(input_dim,), name=\"returns_input\")\n",
    "    h = layers.Dense(intermediate_dim, activation=\"relu\")(x_input)\n",
    "    z_mean = layers.Dense(latent_dim, name=\"z_mean\")(h)\n",
    "    z_log_var = layers.Dense(latent_dim, name=\"z_log_var\")(h)\n",
    "\n",
    "    z_mean = KLDivergenceLayer()([z_mean, z_log_var])\n",
    "\n",
    "    z = SamplingLayer(name=\"z\")([z_mean, z_log_var])\n",
    "    encoder = Model(x_input, [z_mean, z_log_var, z], name=\"encoder\")\n",
    "\n",
    "    # Decoder\n",
    "    cond_input = layers.Input(shape=(macro_dim,), name=\"macro_input\")\n",
    "    decoder_input = layers.Concatenate(name=\"concat_decoder\")([z, cond_input])\n",
    "    d = layers.Dense(intermediate_dim, activation=\"relu\")(decoder_input)\n",
    "    d = layers.Dense(intermediate_dim // 2, activation=\"relu\")(d)\n",
    "    outputs = layers.Dense(input_dim, activation=\"linear\")(d)\n",
    "    decoder = Model([z, cond_input], outputs, name=\"decoder\")\n",
    "\n",
    "    # Conditional VAE Model\n",
    "    vae_output = decoder([encoder(x_input)[2], cond_input])\n",
    "    x_pred = ReconstructionLossLayer()([x_input, vae_output])\n",
    "    cvae = Model([x_input, cond_input], x_pred, name=\"cvae\")\n",
    "\n",
    "    # Compile the model\n",
    "    cvae.compile(optimizer=\"adam\")\n",
    "\n",
    "    return encoder, decoder, cvae"
   ]
  },
  {
   "cell_type": "markdown",
   "metadata": {},
   "source": [
    "## Conditional Generator and Critic (WGAN-GP) with Increased Depth and Dropout"
   ]
  },
  {
   "cell_type": "code",
   "execution_count": null,
   "metadata": {},
   "outputs": [],
   "source": [
    "def build_conditional_generator(noise_dim, macro_dim, latent_dim):\n",
    "    noise_input = layers.Input(shape=(noise_dim,), name=\"noise_input\")\n",
    "    macro_input = layers.Input(shape=(macro_dim,), name=\"macro_input_gen\")\n",
    "    x = layers.Concatenate(name=\"concat_gen\")([noise_input, macro_input])\n",
    "    x = layers.Dense(256, activation=\"relu\")(x)\n",
    "    x = layers.Dense(256, activation=\"relu\")(x)\n",
    "    x = layers.Dense(128, activation=\"relu\")(x)\n",
    "    x = layers.Dense(128, activation=\"relu\")(x)\n",
    "    x = layers.Dense(64, activation=\"relu\")(x)\n",
    "    output_latent = layers.Dense(latent_dim, name=\"latent_generated\")(x)\n",
    "    model = Model(\n",
    "        [noise_input, macro_input], output_latent, name=\"conditional_generator\"\n",
    "    )\n",
    "    return model\n",
    "\n",
    "\n",
    "def build_conditional_critic(latent_dim, macro_dim):\n",
    "    latent_input = layers.Input(shape=(latent_dim,), name=\"latent_input\")\n",
    "    macro_input = layers.Input(shape=(macro_dim,), name=\"macro_input_critic\")\n",
    "    x = layers.Concatenate(name=\"concat_critic\")([latent_input, macro_input])\n",
    "    x = layers.Dense(256, activation=\"relu\")(x)\n",
    "    x = layers.Dense(256, activation=\"relu\")(x)\n",
    "    x = layers.Dense(128, activation=\"relu\")(x)\n",
    "    x = layers.Dense(128, activation=\"relu\")(x)\n",
    "    x = layers.Dense(64, activation=\"relu\")(x)\n",
    "    output_score = layers.Dense(1, name=\"critic_score\")(x)\n",
    "    model = Model([latent_input, macro_input], output_score, name=\"conditional_critic\")\n",
    "    return model\n",
    "\n",
    "\n",
    "def gradient_penalty_cond(critic, real_latent, fake_latent, macro, batch_size):\n",
    "    alpha = tf.random.uniform([batch_size, 1], 0.0, 1.0)\n",
    "    interpolated_latent = alpha * real_latent + (1 - alpha) * fake_latent\n",
    "    with tf.GradientTape() as gp_tape:\n",
    "        gp_tape.watch(interpolated_latent)\n",
    "        interpolated_output = critic([interpolated_latent, macro])\n",
    "    grads = gp_tape.gradient(interpolated_output, [interpolated_latent])[0]\n",
    "    norm = tf.sqrt(tf.reduce_sum(tf.square(grads), axis=1) + 1e-12)\n",
    "    gp = tf.reduce_mean((norm - 1.0) ** 2)\n",
    "    return gp\n",
    "\n",
    "\n",
    "def train_conditional_wgan_gp(\n",
    "    generator,\n",
    "    critic,\n",
    "    real_latent,\n",
    "    real_macro,\n",
    "    noise_dim,\n",
    "    batch_size=32,\n",
    "    epochs=1000,\n",
    "    critic_iterations=5,\n",
    "    lambda_gp=10.0,\n",
    "):\n",
    "    gen_optimizer = tf.keras.optimizers.Adam(\n",
    "        learning_rate=0.0001, beta_1=0.5, beta_2=0.9\n",
    "    )\n",
    "    critic_optimizer = tf.keras.optimizers.Adam(\n",
    "        learning_rate=0.0001, beta_1=0.5, beta_2=0.9\n",
    "    )\n",
    "\n",
    "    dataset = tf.data.Dataset.from_tensor_slices(\n",
    "        (real_latent.astype(\"float32\"), real_macro.astype(\"float32\"))\n",
    "    )\n",
    "    dataset = dataset.shuffle(1024).batch(batch_size)\n",
    "\n",
    "    for epoch in range(epochs):\n",
    "        for latent_batch, macro_batch in dataset:\n",
    "            current_batch_size = tf.shape(macro_batch)[0]\n",
    "            for _ in range(critic_iterations):\n",
    "                noise = tf.random.normal([current_batch_size, noise_dim])\n",
    "                with tf.GradientTape() as tape:\n",
    "                    fake_latent = generator([noise, macro_batch])\n",
    "                    critic_real = critic([latent_batch, macro_batch])\n",
    "                    critic_fake = critic([fake_latent, macro_batch])\n",
    "                    gp = gradient_penalty_cond(\n",
    "                        critic,\n",
    "                        latent_batch,\n",
    "                        fake_latent,\n",
    "                        macro_batch,\n",
    "                        current_batch_size,\n",
    "                    )\n",
    "                    critic_loss = (\n",
    "                        tf.reduce_mean(critic_fake)\n",
    "                        - tf.reduce_mean(critic_real)\n",
    "                        + lambda_gp * gp\n",
    "                    )\n",
    "                grads = tape.gradient(critic_loss, critic.trainable_variables)\n",
    "                critic_optimizer.apply_gradients(zip(grads, critic.trainable_variables))\n",
    "\n",
    "            noise = tf.random.normal([current_batch_size, noise_dim])\n",
    "            with tf.GradientTape() as tape:\n",
    "                fake_latent = generator([noise, macro_batch])\n",
    "                gen_loss = -tf.reduce_mean(critic([fake_latent, macro_batch]))\n",
    "            grads = tape.gradient(gen_loss, generator.trainable_variables)\n",
    "            gen_optimizer.apply_gradients(zip(grads, generator.trainable_variables))\n",
    "\n",
    "        if epoch % 100 == 0:\n",
    "            print(\n",
    "                f\"Epoch {epoch}: Critic Loss = {critic_loss.numpy():.4f}, Gen Loss = {gen_loss.numpy():.4f}\"\n",
    "            )\n",
    "\n",
    "    return generator"
   ]
  },
  {
   "cell_type": "markdown",
   "metadata": {},
   "source": [
    "## Metrics and Validation Functions"
   ]
  },
  {
   "cell_type": "code",
   "execution_count": 10,
   "metadata": {},
   "outputs": [],
   "source": [
    "def compute_portfolio_returns(returns_array, weights):\n",
    "    return returns_array.dot(weights)\n",
    "\n",
    "\n",
    "def calculate_var_es(portfolio_returns, alpha=5):\n",
    "    var_threshold = np.percentile(portfolio_returns, alpha)\n",
    "    es = portfolio_returns[portfolio_returns <= var_threshold].mean()\n",
    "    return var_threshold, es\n",
    "\n",
    "\n",
    "def select_extreme_scenarios(synthetic_returns, portfolio_weights, alpha=5):\n",
    "    portfolio_returns = compute_portfolio_returns(synthetic_returns, portfolio_weights)\n",
    "    var_threshold, es = calculate_var_es(portfolio_returns, alpha)\n",
    "    extreme_indices = np.where(portfolio_returns <= var_threshold)[0]\n",
    "    extreme_scenarios = synthetic_returns[extreme_indices]\n",
    "    return extreme_scenarios, var_threshold, es, portfolio_returns\n",
    "\n",
    "\n",
    "def jensen_shannon_divergence(p, q):\n",
    "    m = 0.5 * (p + q)\n",
    "    return 0.5 * (entropy(p, m) + entropy(q, m))"
   ]
  },
  {
   "cell_type": "markdown",
   "metadata": {},
   "source": [
    "## Clustering Function for Latent Space Scenarios"
   ]
  },
  {
   "cell_type": "code",
   "execution_count": 11,
   "metadata": {},
   "outputs": [],
   "source": [
    "def cluster_extreme_latent(z_codes, n_clusters=3):\n",
    "    kmeans = KMeans(n_clusters=n_clusters, random_state=42)\n",
    "    clusters = kmeans.fit_predict(z_codes)\n",
    "    global_center = np.mean(z_codes, axis=0)\n",
    "    distances = np.linalg.norm(kmeans.cluster_centers_ - global_center, axis=1)\n",
    "    extreme_cluster = np.argmax(distances)\n",
    "    extreme_indices = np.where(clusters == extreme_cluster)[0]\n",
    "    return extreme_indices, clusters, kmeans.cluster_centers_"
   ]
  },
  {
   "cell_type": "markdown",
   "metadata": {},
   "source": [
    "## MAIN: Training and Stress Testing"
   ]
  },
  {
   "cell_type": "code",
   "execution_count": null,
   "metadata": {},
   "outputs": [],
   "source": [
    "if macro_scaled is None:\n",
    "    raise ValueError(\"Macroeconomic indicators not available. Check FRED data.\")\n",
    "\n",
    "n_samples = min(returns_scaled.shape[0], macro_scaled.shape[0])\n",
    "returns_scaled = returns_scaled[:n_samples]\n",
    "macro_scaled = macro_scaled[:n_samples]"
   ]
  },
  {
   "cell_type": "markdown",
   "metadata": {},
   "source": [
    "### VAE"
   ]
  },
  {
   "cell_type": "code",
   "execution_count": 13,
   "metadata": {},
   "outputs": [
    {
     "name": "stdout",
     "output_type": "stream",
     "text": [
      "Training Conditional VAE...\n"
     ]
    },
    {
     "name": "stderr",
     "output_type": "stream",
     "text": [
      "I0000 00:00:1740859633.792639  325969 gpu_device.cc:2022] Created device /job:localhost/replica:0/task:0/device:GPU:0 with 11007 MB memory:  -> device: 0, name: NVIDIA GeForce RTX 4080 SUPER, pci bus id: 0000:01:00.0, compute capability: 8.9\n"
     ]
    },
    {
     "name": "stdout",
     "output_type": "stream",
     "text": [
      "Epoch 1/50\n"
     ]
    },
    {
     "name": "stderr",
     "output_type": "stream",
     "text": [
      "WARNING: All log messages before absl::InitializeLog() is called are written to STDERR\n",
      "I0000 00:00:1740859634.962100  326245 service.cc:148] XLA service 0x77551c01e830 initialized for platform CUDA (this does not guarantee that XLA will be used). Devices:\n",
      "I0000 00:00:1740859634.962117  326245 service.cc:156]   StreamExecutor device (0): NVIDIA GeForce RTX 4080 SUPER, Compute Capability 8.9\n",
      "2025-03-01 15:07:14.980866: I tensorflow/compiler/mlir/tensorflow/utils/dump_mlir_util.cc:268] disabling MLIR crash reproducer, set env var `MLIR_CRASH_REPRODUCER_DIRECTORY` to enable.\n",
      "I0000 00:00:1740859635.075337  326245 cuda_dnn.cc:529] Loaded cuDNN version 90300\n",
      "2025-03-01 15:07:15.643433: I external/local_xla/xla/stream_executor/cuda/cuda_asm_compiler.cc:397] ptxas warning : Registers are spilled to local memory in function 'gemm_fusion_dot_677', 24 bytes spill stores, 24 bytes spill loads\n",
      "\n",
      "2025-03-01 15:07:15.772884: I external/local_xla/xla/stream_executor/cuda/cuda_asm_compiler.cc:397] ptxas warning : Registers are spilled to local memory in function 'gemm_fusion_dot_677', 24 bytes spill stores, 28 bytes spill loads\n",
      "\n"
     ]
    },
    {
     "name": "stdout",
     "output_type": "stream",
     "text": [
      "\u001b[1m 1/18\u001b[0m \u001b[32m━\u001b[0m\u001b[37m━━━━━━━━━━━━━━━━━━━\u001b[0m \u001b[1m39s\u001b[0m 2s/step - loss: 1.6237"
     ]
    },
    {
     "name": "stderr",
     "output_type": "stream",
     "text": [
      "I0000 00:00:1740859636.598304  326245 device_compiler.h:188] Compiled cluster using XLA!  This line is logged at most once for the lifetime of the process.\n"
     ]
    },
    {
     "name": "stdout",
     "output_type": "stream",
     "text": [
      "\u001b[1m18/18\u001b[0m \u001b[32m━━━━━━━━━━━━━━━━━━━━\u001b[0m\u001b[37m\u001b[0m \u001b[1m4s\u001b[0m 85ms/step - loss: 1.2045\n",
      "Epoch 2/50\n",
      "\u001b[1m18/18\u001b[0m \u001b[32m━━━━━━━━━━━━━━━━━━━━\u001b[0m\u001b[37m\u001b[0m \u001b[1m0s\u001b[0m 2ms/step - loss: 0.8800 \n",
      "Epoch 3/50\n",
      "\u001b[1m18/18\u001b[0m \u001b[32m━━━━━━━━━━━━━━━━━━━━\u001b[0m\u001b[37m\u001b[0m \u001b[1m0s\u001b[0m 1ms/step - loss: 1.0113 \n",
      "Epoch 4/50\n",
      "\u001b[1m18/18\u001b[0m \u001b[32m━━━━━━━━━━━━━━━━━━━━\u001b[0m\u001b[37m\u001b[0m \u001b[1m0s\u001b[0m 2ms/step - loss: 1.0738 \n",
      "Epoch 5/50\n",
      "\u001b[1m18/18\u001b[0m \u001b[32m━━━━━━━━━━━━━━━━━━━━\u001b[0m\u001b[37m\u001b[0m \u001b[1m0s\u001b[0m 2ms/step - loss: 0.9642 \n",
      "Epoch 6/50\n",
      "\u001b[1m18/18\u001b[0m \u001b[32m━━━━━━━━━━━━━━━━━━━━\u001b[0m\u001b[37m\u001b[0m \u001b[1m0s\u001b[0m 2ms/step - loss: 1.0144 \n",
      "Epoch 7/50\n",
      "\u001b[1m18/18\u001b[0m \u001b[32m━━━━━━━━━━━━━━━━━━━━\u001b[0m\u001b[37m\u001b[0m \u001b[1m0s\u001b[0m 2ms/step - loss: 1.0296 \n",
      "Epoch 8/50\n",
      "\u001b[1m18/18\u001b[0m \u001b[32m━━━━━━━━━━━━━━━━━━━━\u001b[0m\u001b[37m\u001b[0m \u001b[1m0s\u001b[0m 2ms/step - loss: 0.9739 \n",
      "Epoch 9/50\n",
      "\u001b[1m18/18\u001b[0m \u001b[32m━━━━━━━━━━━━━━━━━━━━\u001b[0m\u001b[37m\u001b[0m \u001b[1m0s\u001b[0m 2ms/step - loss: 1.0603 \n",
      "Epoch 10/50\n",
      "\u001b[1m18/18\u001b[0m \u001b[32m━━━━━━━━━━━━━━━━━━━━\u001b[0m\u001b[37m\u001b[0m \u001b[1m0s\u001b[0m 2ms/step - loss: 1.0016 \n",
      "Epoch 11/50\n",
      "\u001b[1m18/18\u001b[0m \u001b[32m━━━━━━━━━━━━━━━━━━━━\u001b[0m\u001b[37m\u001b[0m \u001b[1m0s\u001b[0m 2ms/step - loss: 0.9137 \n",
      "Epoch 12/50\n",
      "\u001b[1m18/18\u001b[0m \u001b[32m━━━━━━━━━━━━━━━━━━━━\u001b[0m\u001b[37m\u001b[0m \u001b[1m0s\u001b[0m 1ms/step - loss: 0.9264 \n",
      "Epoch 13/50\n",
      "\u001b[1m18/18\u001b[0m \u001b[32m━━━━━━━━━━━━━━━━━━━━\u001b[0m\u001b[37m\u001b[0m \u001b[1m0s\u001b[0m 2ms/step - loss: 0.8828 \n",
      "Epoch 14/50\n",
      "\u001b[1m18/18\u001b[0m \u001b[32m━━━━━━━━━━━━━━━━━━━━\u001b[0m\u001b[37m\u001b[0m \u001b[1m0s\u001b[0m 2ms/step - loss: 0.9860 \n",
      "Epoch 15/50\n",
      "\u001b[1m18/18\u001b[0m \u001b[32m━━━━━━━━━━━━━━━━━━━━\u001b[0m\u001b[37m\u001b[0m \u001b[1m0s\u001b[0m 2ms/step - loss: 1.0447 \n",
      "Epoch 16/50\n",
      "\u001b[1m18/18\u001b[0m \u001b[32m━━━━━━━━━━━━━━━━━━━━\u001b[0m\u001b[37m\u001b[0m \u001b[1m0s\u001b[0m 2ms/step - loss: 0.8405 \n",
      "Epoch 17/50\n",
      "\u001b[1m18/18\u001b[0m \u001b[32m━━━━━━━━━━━━━━━━━━━━\u001b[0m\u001b[37m\u001b[0m \u001b[1m0s\u001b[0m 2ms/step - loss: 0.9568 \n",
      "Epoch 18/50\n",
      "\u001b[1m18/18\u001b[0m \u001b[32m━━━━━━━━━━━━━━━━━━━━\u001b[0m\u001b[37m\u001b[0m \u001b[1m0s\u001b[0m 1ms/step - loss: 1.0428 \n",
      "Epoch 19/50\n",
      "\u001b[1m18/18\u001b[0m \u001b[32m━━━━━━━━━━━━━━━━━━━━\u001b[0m\u001b[37m\u001b[0m \u001b[1m0s\u001b[0m 2ms/step - loss: 0.8810 \n",
      "Epoch 20/50\n",
      "\u001b[1m18/18\u001b[0m \u001b[32m━━━━━━━━━━━━━━━━━━━━\u001b[0m\u001b[37m\u001b[0m \u001b[1m0s\u001b[0m 2ms/step - loss: 0.9425 \n",
      "Epoch 21/50\n",
      "\u001b[1m18/18\u001b[0m \u001b[32m━━━━━━━━━━━━━━━━━━━━\u001b[0m\u001b[37m\u001b[0m \u001b[1m0s\u001b[0m 2ms/step - loss: 0.8068 \n",
      "Epoch 22/50\n",
      "\u001b[1m18/18\u001b[0m \u001b[32m━━━━━━━━━━━━━━━━━━━━\u001b[0m\u001b[37m\u001b[0m \u001b[1m0s\u001b[0m 1ms/step - loss: 1.0513 \n",
      "Epoch 23/50\n",
      "\u001b[1m18/18\u001b[0m \u001b[32m━━━━━━━━━━━━━━━━━━━━\u001b[0m\u001b[37m\u001b[0m \u001b[1m0s\u001b[0m 1ms/step - loss: 0.8227 \n",
      "Epoch 24/50\n",
      "\u001b[1m18/18\u001b[0m \u001b[32m━━━━━━━━━━━━━━━━━━━━\u001b[0m\u001b[37m\u001b[0m \u001b[1m0s\u001b[0m 2ms/step - loss: 0.9125 \n",
      "Epoch 25/50\n",
      "\u001b[1m18/18\u001b[0m \u001b[32m━━━━━━━━━━━━━━━━━━━━\u001b[0m\u001b[37m\u001b[0m \u001b[1m0s\u001b[0m 2ms/step - loss: 0.8780 \n",
      "Epoch 26/50\n",
      "\u001b[1m18/18\u001b[0m \u001b[32m━━━━━━━━━━━━━━━━━━━━\u001b[0m\u001b[37m\u001b[0m \u001b[1m0s\u001b[0m 1ms/step - loss: 0.8923 \n",
      "Epoch 27/50\n",
      "\u001b[1m18/18\u001b[0m \u001b[32m━━━━━━━━━━━━━━━━━━━━\u001b[0m\u001b[37m\u001b[0m \u001b[1m0s\u001b[0m 2ms/step - loss: 0.9334 \n",
      "Epoch 28/50\n",
      "\u001b[1m18/18\u001b[0m \u001b[32m━━━━━━━━━━━━━━━━━━━━\u001b[0m\u001b[37m\u001b[0m \u001b[1m0s\u001b[0m 1ms/step - loss: 0.8222 \n",
      "Epoch 29/50\n",
      "\u001b[1m18/18\u001b[0m \u001b[32m━━━━━━━━━━━━━━━━━━━━\u001b[0m\u001b[37m\u001b[0m \u001b[1m0s\u001b[0m 2ms/step - loss: 0.8482 \n",
      "Epoch 30/50\n",
      "\u001b[1m18/18\u001b[0m \u001b[32m━━━━━━━━━━━━━━━━━━━━\u001b[0m\u001b[37m\u001b[0m \u001b[1m0s\u001b[0m 2ms/step - loss: 0.8577 \n",
      "Epoch 31/50\n",
      "\u001b[1m18/18\u001b[0m \u001b[32m━━━━━━━━━━━━━━━━━━━━\u001b[0m\u001b[37m\u001b[0m \u001b[1m0s\u001b[0m 2ms/step - loss: 1.1491 \n",
      "Epoch 32/50\n",
      "\u001b[1m18/18\u001b[0m \u001b[32m━━━━━━━━━━━━━━━━━━━━\u001b[0m\u001b[37m\u001b[0m \u001b[1m0s\u001b[0m 2ms/step - loss: 0.8897 \n",
      "Epoch 33/50\n",
      "\u001b[1m18/18\u001b[0m \u001b[32m━━━━━━━━━━━━━━━━━━━━\u001b[0m\u001b[37m\u001b[0m \u001b[1m0s\u001b[0m 2ms/step - loss: 0.7743 \n",
      "Epoch 34/50\n",
      "\u001b[1m18/18\u001b[0m \u001b[32m━━━━━━━━━━━━━━━━━━━━\u001b[0m\u001b[37m\u001b[0m \u001b[1m0s\u001b[0m 2ms/step - loss: 0.8323 \n",
      "Epoch 35/50\n",
      "\u001b[1m18/18\u001b[0m \u001b[32m━━━━━━━━━━━━━━━━━━━━\u001b[0m\u001b[37m\u001b[0m \u001b[1m0s\u001b[0m 1ms/step - loss: 0.8252 \n",
      "Epoch 36/50\n",
      "\u001b[1m18/18\u001b[0m \u001b[32m━━━━━━━━━━━━━━━━━━━━\u001b[0m\u001b[37m\u001b[0m \u001b[1m0s\u001b[0m 2ms/step - loss: 0.8268 \n",
      "Epoch 37/50\n",
      "\u001b[1m18/18\u001b[0m \u001b[32m━━━━━━━━━━━━━━━━━━━━\u001b[0m\u001b[37m\u001b[0m \u001b[1m0s\u001b[0m 2ms/step - loss: 0.8116 \n",
      "Epoch 38/50\n",
      "\u001b[1m18/18\u001b[0m \u001b[32m━━━━━━━━━━━━━━━━━━━━\u001b[0m\u001b[37m\u001b[0m \u001b[1m0s\u001b[0m 1ms/step - loss: 0.7505 \n",
      "Epoch 39/50\n",
      "\u001b[1m18/18\u001b[0m \u001b[32m━━━━━━━━━━━━━━━━━━━━\u001b[0m\u001b[37m\u001b[0m \u001b[1m0s\u001b[0m 1ms/step - loss: 0.7819 \n",
      "Epoch 40/50\n",
      "\u001b[1m18/18\u001b[0m \u001b[32m━━━━━━━━━━━━━━━━━━━━\u001b[0m\u001b[37m\u001b[0m \u001b[1m0s\u001b[0m 1ms/step - loss: 0.8258 \n",
      "Epoch 41/50\n",
      "\u001b[1m18/18\u001b[0m \u001b[32m━━━━━━━━━━━━━━━━━━━━\u001b[0m\u001b[37m\u001b[0m \u001b[1m0s\u001b[0m 1ms/step - loss: 0.7918 \n",
      "Epoch 42/50\n",
      "\u001b[1m18/18\u001b[0m \u001b[32m━━━━━━━━━━━━━━━━━━━━\u001b[0m\u001b[37m\u001b[0m \u001b[1m0s\u001b[0m 1ms/step - loss: 0.7583 \n",
      "Epoch 43/50\n",
      "\u001b[1m18/18\u001b[0m \u001b[32m━━━━━━━━━━━━━━━━━━━━\u001b[0m\u001b[37m\u001b[0m \u001b[1m0s\u001b[0m 1ms/step - loss: 0.8676 \n",
      "Epoch 44/50\n",
      "\u001b[1m18/18\u001b[0m \u001b[32m━━━━━━━━━━━━━━━━━━━━\u001b[0m\u001b[37m\u001b[0m \u001b[1m0s\u001b[0m 1ms/step - loss: 0.7752 \n",
      "Epoch 45/50\n",
      "\u001b[1m18/18\u001b[0m \u001b[32m━━━━━━━━━━━━━━━━━━━━\u001b[0m\u001b[37m\u001b[0m \u001b[1m0s\u001b[0m 1ms/step - loss: 0.8211 \n",
      "Epoch 46/50\n",
      "\u001b[1m18/18\u001b[0m \u001b[32m━━━━━━━━━━━━━━━━━━━━\u001b[0m\u001b[37m\u001b[0m \u001b[1m0s\u001b[0m 1ms/step - loss: 0.8226 \n",
      "Epoch 47/50\n",
      "\u001b[1m18/18\u001b[0m \u001b[32m━━━━━━━━━━━━━━━━━━━━\u001b[0m\u001b[37m\u001b[0m \u001b[1m0s\u001b[0m 1ms/step - loss: 0.8203 \n",
      "Epoch 48/50\n",
      "\u001b[1m18/18\u001b[0m \u001b[32m━━━━━━━━━━━━━━━━━━━━\u001b[0m\u001b[37m\u001b[0m \u001b[1m0s\u001b[0m 1ms/step - loss: 0.8210 \n",
      "Epoch 49/50\n",
      "\u001b[1m18/18\u001b[0m \u001b[32m━━━━━━━━━━━━━━━━━━━━\u001b[0m\u001b[37m\u001b[0m \u001b[1m0s\u001b[0m 1ms/step - loss: 0.8144 \n",
      "Epoch 50/50\n",
      "\u001b[1m18/18\u001b[0m \u001b[32m━━━━━━━━━━━━━━━━━━━━\u001b[0m\u001b[37m\u001b[0m \u001b[1m0s\u001b[0m 1ms/step - loss: 0.8507 \n",
      "\u001b[1m18/18\u001b[0m \u001b[32m━━━━━━━━━━━━━━━━━━━━\u001b[0m\u001b[37m\u001b[0m \u001b[1m0s\u001b[0m 15ms/step\n"
     ]
    }
   ],
   "source": [
    "input_dim = returns_scaled.shape[1]\n",
    "macro_dim = macro_scaled.shape[1]\n",
    "latent_dim = 2\n",
    "print(\"Training Conditional VAE...\")\n",
    "encoder, decoder, cvae = build_conditional_vae(\n",
    "    input_dim, macro_dim, intermediate_dim=256, latent_dim=latent_dim\n",
    ")\n",
    "cvae.fit([returns_scaled, macro_scaled], epochs=50, batch_size=32, verbose=1)\n",
    "z_mean_train, _, _ = encoder.predict(returns_scaled)"
   ]
  },
  {
   "cell_type": "markdown",
   "metadata": {},
   "source": [
    "### WGAN-GP"
   ]
  },
  {
   "cell_type": "code",
   "execution_count": 14,
   "metadata": {},
   "outputs": [
    {
     "name": "stdout",
     "output_type": "stream",
     "text": [
      "Training Conditional WGAN-GP...\n"
     ]
    },
    {
     "name": "stderr",
     "output_type": "stream",
     "text": [
      "2025-03-01 15:07:24.911451: I tensorflow/core/framework/local_rendezvous.cc:405] Local rendezvous is aborting with status: OUT_OF_RANGE: End of sequence\n"
     ]
    },
    {
     "name": "stdout",
     "output_type": "stream",
     "text": [
      "Epoch 0: Critic Loss = 6.5418, Gen Loss = -0.0184\n"
     ]
    },
    {
     "name": "stderr",
     "output_type": "stream",
     "text": [
      "2025-03-01 15:07:28.665419: I tensorflow/core/framework/local_rendezvous.cc:405] Local rendezvous is aborting with status: OUT_OF_RANGE: End of sequence\n",
      "2025-03-01 15:07:36.246320: I tensorflow/core/framework/local_rendezvous.cc:405] Local rendezvous is aborting with status: OUT_OF_RANGE: End of sequence\n",
      "2025-03-01 15:07:51.396614: I tensorflow/core/framework/local_rendezvous.cc:405] Local rendezvous is aborting with status: OUT_OF_RANGE: End of sequence\n",
      "2025-03-01 15:08:21.672601: I tensorflow/core/framework/local_rendezvous.cc:405] Local rendezvous is aborting with status: OUT_OF_RANGE: End of sequence\n",
      "2025-03-01 15:09:22.412810: I tensorflow/core/framework/local_rendezvous.cc:405] Local rendezvous is aborting with status: OUT_OF_RANGE: End of sequence\n",
      "2025-03-01 15:11:22.938476: I tensorflow/core/framework/local_rendezvous.cc:405] Local rendezvous is aborting with status: OUT_OF_RANGE: End of sequence\n"
     ]
    },
    {
     "name": "stdout",
     "output_type": "stream",
     "text": [
      "Epoch 100: Critic Loss = -0.0079, Gen Loss = -0.1604\n"
     ]
    },
    {
     "name": "stderr",
     "output_type": "stream",
     "text": [
      "2025-03-01 15:15:25.265611: I tensorflow/core/framework/local_rendezvous.cc:405] Local rendezvous is aborting with status: OUT_OF_RANGE: End of sequence\n"
     ]
    },
    {
     "name": "stdout",
     "output_type": "stream",
     "text": [
      "Epoch 200: Critic Loss = -0.0798, Gen Loss = 0.1172\n"
     ]
    },
    {
     "name": "stderr",
     "output_type": "stream",
     "text": [
      "2025-03-01 15:23:31.828078: I tensorflow/core/framework/local_rendezvous.cc:405] Local rendezvous is aborting with status: OUT_OF_RANGE: End of sequence\n"
     ]
    },
    {
     "name": "stdout",
     "output_type": "stream",
     "text": [
      "Epoch 300: Critic Loss = 0.0601, Gen Loss = 1.3055\n",
      "Epoch 400: Critic Loss = -0.1840, Gen Loss = 0.7501\n",
      "Epoch 500: Critic Loss = -0.1276, Gen Loss = 1.7056\n"
     ]
    },
    {
     "name": "stderr",
     "output_type": "stream",
     "text": [
      "2025-03-01 15:39:45.278910: I tensorflow/core/framework/local_rendezvous.cc:405] Local rendezvous is aborting with status: OUT_OF_RANGE: End of sequence\n"
     ]
    },
    {
     "name": "stdout",
     "output_type": "stream",
     "text": [
      "Epoch 600: Critic Loss = -0.2442, Gen Loss = 0.6966\n",
      "Epoch 700: Critic Loss = 0.0644, Gen Loss = 1.2761\n",
      "Epoch 800: Critic Loss = -0.0342, Gen Loss = 0.9248\n",
      "Epoch 900: Critic Loss = -0.0127, Gen Loss = 1.4490\n"
     ]
    }
   ],
   "source": [
    "noise_dim = 10\n",
    "print(\"Training Conditional WGAN-GP...\")\n",
    "generator = build_conditional_generator(noise_dim, macro_dim, latent_dim)\n",
    "critic = build_conditional_critic(latent_dim, macro_dim)\n",
    "generator = train_conditional_wgan_gp(\n",
    "    generator,\n",
    "    critic,\n",
    "    z_mean_train,\n",
    "    macro_scaled,\n",
    "    noise_dim,\n",
    "    batch_size=32,\n",
    "    epochs=1000,\n",
    "    critic_iterations=5,\n",
    "    lambda_gp=10.0,\n",
    ")"
   ]
  },
  {
   "cell_type": "markdown",
   "metadata": {},
   "source": [
    "### Save Models"
   ]
  },
  {
   "cell_type": "code",
   "execution_count": 26,
   "metadata": {},
   "outputs": [],
   "source": [
    "encoder.save(\"models/encoder_model.keras\")\n",
    "decoder.save(\"models/decoder_model.keras\")\n",
    "cvae.save(\"models/cvae_model.keras\")\n",
    "generator.save(\"models/generator_model.keras\")\n",
    "critic.save(\"models/critic_model.keras\")"
   ]
  },
  {
   "cell_type": "markdown",
   "metadata": {},
   "source": [
    "### Generate New Synthetic Scenarios"
   ]
  },
  {
   "cell_type": "code",
   "execution_count": 15,
   "metadata": {},
   "outputs": [
    {
     "name": "stdout",
     "output_type": "stream",
     "text": [
      "\u001b[1m32/32\u001b[0m \u001b[32m━━━━━━━━━━━━━━━━━━━━\u001b[0m\u001b[37m\u001b[0m \u001b[1m1s\u001b[0m 15ms/step\n"
     ]
    }
   ],
   "source": [
    "num_samples_to_generate = 1000\n",
    "idx = np.random.choice(macro_scaled.shape[0], num_samples_to_generate, replace=True)\n",
    "macro_conditions_sample = macro_scaled[idx]\n",
    "macro_conditions_sample = tf.convert_to_tensor(\n",
    "    macro_conditions_sample, dtype=tf.float32\n",
    ")\n",
    "noise = tf.random.normal([num_samples_to_generate, noise_dim])\n",
    "generated_latent = generator([noise, macro_conditions_sample]).numpy()\n",
    "\n",
    "synthetic_returns_scaled = decoder.predict([generated_latent, macro_conditions_sample])\n",
    "synthetic_returns = returns_scaler.inverse_transform(synthetic_returns_scaled)"
   ]
  },
  {
   "cell_type": "markdown",
   "metadata": {},
   "source": [
    "#### Stress Testing"
   ]
  },
  {
   "cell_type": "code",
   "execution_count": 16,
   "metadata": {},
   "outputs": [],
   "source": [
    "portfolio_weights = np.array([1 / len(tickers)] * len(tickers))\n",
    "extreme_scenarios, var_threshold, es, synthetic_portfolio_returns = (\n",
    "    select_extreme_scenarios(synthetic_returns, portfolio_weights, alpha=5)\n",
    ")\n",
    "historical_portfolio_returns = compute_portfolio_returns(\n",
    "    returns.values, portfolio_weights\n",
    ")\n",
    "emd_distance = wasserstein_distance(\n",
    "    historical_portfolio_returns, synthetic_portfolio_returns\n",
    ")\n",
    "\n",
    "hist_real, bin_edges = np.histogram(returns.values[:, 0], bins=50, density=True)\n",
    "hist_syn, _ = np.histogram(synthetic_returns[:, 0], bins=bin_edges, density=True)\n",
    "js_div = jensen_shannon_divergence(hist_real + 1e-8, hist_syn + 1e-8)\n",
    "ks_stat, ks_pvalue = ks_2samp(returns.values[:, 0], synthetic_returns[:, 0])\n",
    "\n",
    "\n",
    "def autocorr(x, lag=1):\n",
    "    return np.corrcoef(x[:-lag], x[lag:])[0, 1]\n",
    "\n",
    "\n",
    "autocorr_real = np.mean(\n",
    "    [autocorr(returns.values[:, i]) for i in range(returns.values.shape[1])]\n",
    ")\n",
    "autocorr_syn = np.mean(\n",
    "    [autocorr(synthetic_returns[:, i]) for i in range(synthetic_returns.shape[1])]\n",
    ")\n",
    "\n",
    "extreme_indices_cluster, clusters, cluster_centers = cluster_extreme_latent(\n",
    "    generated_latent, n_clusters=3\n",
    ")"
   ]
  },
  {
   "cell_type": "markdown",
   "metadata": {},
   "source": [
    "#### Stress Testing Results"
   ]
  },
  {
   "cell_type": "code",
   "execution_count": 17,
   "metadata": {},
   "outputs": [
    {
     "name": "stdout",
     "output_type": "stream",
     "text": [
      "--- Stress Testing Results ---\n",
      "VaR (5th percentile): -0.0142\n",
      "Expected Shortfall: -0.0504\n",
      "Number of extreme scenarios (VaR): 50\n",
      "Earth Mover's Distance: 0.0070\n",
      "Jensen-Shannon Divergence (asset 1): 0.1399\n",
      "KS-test statistic (asset 1): 0.3287, p-value: 0.0000\n",
      "Mean autocorrelation lag-1: real = -0.1086, synthetic = -0.0387\n",
      "Number of scenarios in extreme cluster (K-Means): 5\n"
     ]
    }
   ],
   "source": [
    "print(\"--- Stress Testing Results ---\")\n",
    "print(f\"VaR (5th percentile): {var_threshold:.4f}\")\n",
    "print(f\"Expected Shortfall: {es:.4f}\")\n",
    "print(f\"Number of extreme scenarios (VaR): {extreme_scenarios.shape[0]}\")\n",
    "print(f\"Earth Mover's Distance: {emd_distance:.4f}\")\n",
    "print(f\"Jensen-Shannon Divergence (asset 1): {js_div:.4f}\")\n",
    "print(f\"KS-test statistic (asset 1): {ks_stat:.4f}, p-value: {ks_pvalue:.4f}\")\n",
    "print(f\"Mean autocorrelation lag-1: real = {autocorr_real:.4f}, synthetic = {autocorr_syn:.4f}\")\n",
    "print(f\"Number of scenarios in extreme cluster (K-Means): {len(extreme_indices_cluster)}\")"
   ]
  },
  {
   "cell_type": "markdown",
   "metadata": {},
   "source": [
    "## Visualization"
   ]
  },
  {
   "cell_type": "markdown",
   "metadata": {},
   "source": [
    "### Histogram of Synthetic Portfolio Returns"
   ]
  },
  {
   "cell_type": "code",
   "execution_count": 18,
   "metadata": {},
   "outputs": [
    {
     "data": {
      "image/png": "[encoded data removed]",
      "text/plain": [
       "<Figure size 1000x600 with 1 Axes>"
      ]
     },
     "metadata": {},
     "output_type": "display_data"
    }
   ],
   "source": [
    "plt.figure(figsize=(10, 6))\n",
    "plt.hist(synthetic_portfolio_returns, bins=50, alpha=0.7, edgecolor=\"black\")\n",
    "plt.axvline(\n",
    "    var_threshold, color=\"r\", linestyle=\"--\", label=f\"VaR (5%): {var_threshold:.4f}\"\n",
    ")\n",
    "plt.xlabel(\"Portfolio Return\")\n",
    "plt.ylabel(\"Frequency\")\n",
    "plt.title(\"Distribution of Synthetic Portfolio Returns\")\n",
    "plt.legend()\n",
    "plt.show()"
   ]
  },
  {
   "cell_type": "markdown",
   "metadata": {},
   "source": [
    "### Heatmap of Extreme Scenarios (VaR)"
   ]
  },
  {
   "cell_type": "code",
   "execution_count": 23,
   "metadata": {},
   "outputs": [
    {
     "data": {
      "image/png": "[encoded data removed]",
      "text/plain": [
       "<Figure size 4000x600 with 2 Axes>"
      ]
     },
     "metadata": {},
     "output_type": "display_data"
    }
   ],
   "source": [
    "plt.figure(figsize=(40, 6))\n",
    "plt.imshow(extreme_scenarios, aspect=\"auto\", cmap=\"viridis\")\n",
    "plt.colorbar(label=\"Return\")\n",
    "plt.xticks(ticks=np.arange(len(tickers)), labels=tickers)\n",
    "plt.xlabel(\"Asset\")\n",
    "plt.ylabel(\"Extreme Scenario (index)\")\n",
    "plt.title(\"Heatmap of Extreme Scenarios (VaR)\")\n",
    "plt.show()"
   ]
  },
  {
   "cell_type": "markdown",
   "metadata": {},
   "source": [
    "### Scatter Plot of Latent Space with Clusters"
   ]
  },
  {
   "cell_type": "code",
   "execution_count": null,
   "metadata": {},
   "outputs": [
    {
     "data": {
      "image/png": "[encoded data removed]",
      "text/plain": [
       "<Figure size 800x600 with 1 Axes>"
      ]
     },
     "metadata": {},
     "output_type": "display_data"
    }
   ],
   "source": [
    "plt.figure(figsize=(8, 6))\n",
    "\n",
    "colors = [\"blue\", \"green\", \"orange\"]\n",
    "cluster_colors = [colors[c] for c in clusters]\n",
    "for i, color in enumerate(colors):\n",
    "    plt.scatter(\n",
    "        generated_latent[clusters == i, 0],\n",
    "        generated_latent[clusters == i, 1],\n",
    "        c=color,\n",
    "        alpha=0.6,\n",
    "        label=f\"Cluster {i+1}\",\n",
    "    )\n",
    "plt.scatter(\n",
    "    cluster_centers[:, 0],\n",
    "    cluster_centers[:, 1],\n",
    "    c=\"red\",\n",
    "    marker=\"X\",\n",
    "    s=200,\n",
    "    label=\"Cluster Centers\",\n",
    ")\n",
    "plt.xlabel(\"Latent 1\")\n",
    "plt.ylabel(\"Latent 2\")\n",
    "plt.title(\"Clustering of Synthetic Scenarios in Latent Space\")\n",
    "plt.legend()\n",
    "plt.show()"
   ]
  },
  {
   "cell_type": "code",
   "execution_count": null,
   "metadata": {},
   "outputs": [],
   "source": []
  }
 ],
 "metadata": {
  "kernelspec": {
   "display_name": "tf",
   "language": "python",
   "name": "python3"
  },
  "language_info": {
   "codemirror_mode": {
    "name": "ipython",
    "version": 3
   },
   "file_extension": ".py",
   "mimetype": "text/x-python",
   "name": "python",
   "nbconvert_exporter": "python",
   "pygments_lexer": "ipython3",
   "version": "3.12.3"
  }
 },
 "nbformat": 4,
 "nbformat_minor": 2
}
